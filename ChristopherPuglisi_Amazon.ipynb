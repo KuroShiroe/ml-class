{
  "cells": [
    {
      "cell_type": "markdown",
      "metadata": {
        "id": "view-in-github",
        "colab_type": "text"
      },
      "source": [
        "<a href=\"https://colab.research.google.com/github/KuroShiroe/ml-class/blob/main/ChristopherPuglisi_Amazon.ipynb\" target=\"_parent\"><img src=\"https://colab.research.google.com/assets/colab-badge.svg\" alt=\"Open In Colab\"/></a>"
      ]
    },
    {
      "cell_type": "code",
      "execution_count": 47,
      "id": "c02ccf8c",
      "metadata": {
        "id": "c02ccf8c"
      },
      "outputs": [],
      "source": [
        "import numpy as np\n",
        "import pandas as pd\n",
        "import nltk\n"
      ]
    },
    {
      "cell_type": "code",
      "execution_count": 48,
      "id": "4ff28188",
      "metadata": {
        "colab": {
          "base_uri": "https://localhost:8080/"
        },
        "id": "4ff28188",
        "outputId": "858c315b-531c-43d9-8e31-40958bd3a5cc"
      },
      "outputs": [
        {
          "output_type": "stream",
          "name": "stderr",
          "text": [
            "/usr/local/lib/python3.7/dist-packages/IPython/core/interactiveshell.py:3326: DtypeWarning: Columns (8) have mixed types.Specify dtype option on import or set low_memory=False.\n",
            "  exec(code_obj, self.user_global_ns, self.user_ns)\n"
          ]
        }
      ],
      "source": [
        "df = pd.read_csv('amazonReviewsTrain.csv')"
      ]
    },
    {
      "cell_type": "code",
      "execution_count": 49,
      "id": "afc88079",
      "metadata": {
        "colab": {
          "base_uri": "https://localhost:8080/"
        },
        "id": "afc88079",
        "outputId": "4241b5ed-beff-4972-d9a4-cb0c6719982c"
      },
      "outputs": [
        {
          "output_type": "execute_result",
          "data": {
            "text/plain": [
              "(221392, 12)"
            ]
          },
          "metadata": {},
          "execution_count": 49
        }
      ],
      "source": [
        "df.shape"
      ]
    },
    {
      "cell_type": "code",
      "execution_count": 50,
      "id": "a71517d0",
      "metadata": {
        "colab": {
          "base_uri": "https://localhost:8080/"
        },
        "id": "a71517d0",
        "outputId": "c39a98fc-89af-465e-bc8f-f3dd83884afa"
      },
      "outputs": [
        {
          "output_type": "stream",
          "name": "stdout",
          "text": [
            "<class 'pandas.core.frame.DataFrame'>\n",
            "RangeIndex: 221392 entries, 0 to 221391\n",
            "Data columns (total 12 columns):\n",
            " #   Column          Non-Null Count   Dtype \n",
            "---  ------          --------------   ----- \n",
            " 0   verified        221392 non-null  bool  \n",
            " 1   reviewTime      221392 non-null  object\n",
            " 2   reviewerID      221392 non-null  object\n",
            " 3   asin            221392 non-null  object\n",
            " 4   reviewerName    221358 non-null  object\n",
            " 5   reviewText      221344 non-null  object\n",
            " 6   summary         221344 non-null  object\n",
            " 7   unixReviewTime  221392 non-null  int64 \n",
            " 8   vote            33295 non-null   object\n",
            " 9   style           116012 non-null  object\n",
            " 10  image           3703 non-null    object\n",
            " 11  rating          221392 non-null  object\n",
            "dtypes: bool(1), int64(1), object(10)\n",
            "memory usage: 18.8+ MB\n"
          ]
        }
      ],
      "source": [
        "df.info()"
      ]
    },
    {
      "cell_type": "code",
      "execution_count": 51,
      "id": "08ac57f6",
      "metadata": {
        "colab": {
          "base_uri": "https://localhost:8080/",
          "height": 206
        },
        "id": "08ac57f6",
        "outputId": "a109f540-3a09-4835-ccf9-34ad548f18a3"
      },
      "outputs": [
        {
          "output_type": "execute_result",
          "data": {
            "text/plain": [
              "   verified   reviewTime      reviewerID        asin  \\\n",
              "0      True   05 4, 2017  A2QNLVLQHW6OOC  B00NEZNT74   \n",
              "1      True   12 1, 2014  A32SHV461SUWNQ  B002Q0WTCE   \n",
              "2      True  12 23, 2015  A2SKHG5ULPYIMC  B0002GFP9I   \n",
              "3      True   09 4, 2013  A2MFJ6C67AL015  B003AJVKDO   \n",
              "4      True  08 28, 2015   ACYCDUUE9A3T2  B004XNK7AI   \n",
              "\n",
              "                          reviewerName  \\\n",
              "0                             Jason L.   \n",
              "1                           Richard C.   \n",
              "2  BellaLatinaReina-ACP Zero-Nine-Five   \n",
              "3                               BOS116   \n",
              "4                         jack edwards   \n",
              "\n",
              "                                          reviewText  \\\n",
              "0         Have 30 of these in operation great lights   \n",
              "1  Good replacement.  I prefer my Rovner L5, but ...   \n",
              "2  My son & band teacher loves it. Really nice. B...   \n",
              "3  This was a gift for a friend who is a fan of t...   \n",
              "4  Wish it would attach to my violin a little eas...   \n",
              "\n",
              "                                             summary  unixReviewTime vote  \\\n",
              "0                                         Five Stars      1493856000  NaN   \n",
              "1            Good replacement. I prefer my Rovner L5      1417392000  NaN   \n",
              "2               Really Helps With Their Practice Pad      1450828800  NaN   \n",
              "3                                       Guitar picks      1378252800  NaN   \n",
              "4  ... to my violin a little easier but it works ...      1440720000  NaN   \n",
              "\n",
              "                         style image    rating  \n",
              "0            {'Size:': ' 4PC'}   NaN  positive  \n",
              "1                          NaN   NaN  positive  \n",
              "2                          NaN   NaN  positive  \n",
              "3          {'Color:': ' Logo'}   NaN  positive  \n",
              "4  {'Color:': ' Black - SN-5'}   NaN  positive  "
            ],
            "text/html": [
              "\n",
              "  <div id=\"df-b4ee2278-cfb9-4a65-8da4-049d3b1f1c90\">\n",
              "    <div class=\"colab-df-container\">\n",
              "      <div>\n",
              "<style scoped>\n",
              "    .dataframe tbody tr th:only-of-type {\n",
              "        vertical-align: middle;\n",
              "    }\n",
              "\n",
              "    .dataframe tbody tr th {\n",
              "        vertical-align: top;\n",
              "    }\n",
              "\n",
              "    .dataframe thead th {\n",
              "        text-align: right;\n",
              "    }\n",
              "</style>\n",
              "<table border=\"1\" class=\"dataframe\">\n",
              "  <thead>\n",
              "    <tr style=\"text-align: right;\">\n",
              "      <th></th>\n",
              "      <th>verified</th>\n",
              "      <th>reviewTime</th>\n",
              "      <th>reviewerID</th>\n",
              "      <th>asin</th>\n",
              "      <th>reviewerName</th>\n",
              "      <th>reviewText</th>\n",
              "      <th>summary</th>\n",
              "      <th>unixReviewTime</th>\n",
              "      <th>vote</th>\n",
              "      <th>style</th>\n",
              "      <th>image</th>\n",
              "      <th>rating</th>\n",
              "    </tr>\n",
              "  </thead>\n",
              "  <tbody>\n",
              "    <tr>\n",
              "      <th>0</th>\n",
              "      <td>True</td>\n",
              "      <td>05 4, 2017</td>\n",
              "      <td>A2QNLVLQHW6OOC</td>\n",
              "      <td>B00NEZNT74</td>\n",
              "      <td>Jason L.</td>\n",
              "      <td>Have 30 of these in operation great lights</td>\n",
              "      <td>Five Stars</td>\n",
              "      <td>1493856000</td>\n",
              "      <td>NaN</td>\n",
              "      <td>{'Size:': ' 4PC'}</td>\n",
              "      <td>NaN</td>\n",
              "      <td>positive</td>\n",
              "    </tr>\n",
              "    <tr>\n",
              "      <th>1</th>\n",
              "      <td>True</td>\n",
              "      <td>12 1, 2014</td>\n",
              "      <td>A32SHV461SUWNQ</td>\n",
              "      <td>B002Q0WTCE</td>\n",
              "      <td>Richard C.</td>\n",
              "      <td>Good replacement.  I prefer my Rovner L5, but ...</td>\n",
              "      <td>Good replacement. I prefer my Rovner L5</td>\n",
              "      <td>1417392000</td>\n",
              "      <td>NaN</td>\n",
              "      <td>NaN</td>\n",
              "      <td>NaN</td>\n",
              "      <td>positive</td>\n",
              "    </tr>\n",
              "    <tr>\n",
              "      <th>2</th>\n",
              "      <td>True</td>\n",
              "      <td>12 23, 2015</td>\n",
              "      <td>A2SKHG5ULPYIMC</td>\n",
              "      <td>B0002GFP9I</td>\n",
              "      <td>BellaLatinaReina-ACP Zero-Nine-Five</td>\n",
              "      <td>My son &amp; band teacher loves it. Really nice. B...</td>\n",
              "      <td>Really Helps With Their Practice Pad</td>\n",
              "      <td>1450828800</td>\n",
              "      <td>NaN</td>\n",
              "      <td>NaN</td>\n",
              "      <td>NaN</td>\n",
              "      <td>positive</td>\n",
              "    </tr>\n",
              "    <tr>\n",
              "      <th>3</th>\n",
              "      <td>True</td>\n",
              "      <td>09 4, 2013</td>\n",
              "      <td>A2MFJ6C67AL015</td>\n",
              "      <td>B003AJVKDO</td>\n",
              "      <td>BOS116</td>\n",
              "      <td>This was a gift for a friend who is a fan of t...</td>\n",
              "      <td>Guitar picks</td>\n",
              "      <td>1378252800</td>\n",
              "      <td>NaN</td>\n",
              "      <td>{'Color:': ' Logo'}</td>\n",
              "      <td>NaN</td>\n",
              "      <td>positive</td>\n",
              "    </tr>\n",
              "    <tr>\n",
              "      <th>4</th>\n",
              "      <td>True</td>\n",
              "      <td>08 28, 2015</td>\n",
              "      <td>ACYCDUUE9A3T2</td>\n",
              "      <td>B004XNK7AI</td>\n",
              "      <td>jack edwards</td>\n",
              "      <td>Wish it would attach to my violin a little eas...</td>\n",
              "      <td>... to my violin a little easier but it works ...</td>\n",
              "      <td>1440720000</td>\n",
              "      <td>NaN</td>\n",
              "      <td>{'Color:': ' Black - SN-5'}</td>\n",
              "      <td>NaN</td>\n",
              "      <td>positive</td>\n",
              "    </tr>\n",
              "  </tbody>\n",
              "</table>\n",
              "</div>\n",
              "      <button class=\"colab-df-convert\" onclick=\"convertToInteractive('df-b4ee2278-cfb9-4a65-8da4-049d3b1f1c90')\"\n",
              "              title=\"Convert this dataframe to an interactive table.\"\n",
              "              style=\"display:none;\">\n",
              "        \n",
              "  <svg xmlns=\"http://www.w3.org/2000/svg\" height=\"24px\"viewBox=\"0 0 24 24\"\n",
              "       width=\"24px\">\n",
              "    <path d=\"M0 0h24v24H0V0z\" fill=\"none\"/>\n",
              "    <path d=\"M18.56 5.44l.94 2.06.94-2.06 2.06-.94-2.06-.94-.94-2.06-.94 2.06-2.06.94zm-11 1L8.5 8.5l.94-2.06 2.06-.94-2.06-.94L8.5 2.5l-.94 2.06-2.06.94zm10 10l.94 2.06.94-2.06 2.06-.94-2.06-.94-.94-2.06-.94 2.06-2.06.94z\"/><path d=\"M17.41 7.96l-1.37-1.37c-.4-.4-.92-.59-1.43-.59-.52 0-1.04.2-1.43.59L10.3 9.45l-7.72 7.72c-.78.78-.78 2.05 0 2.83L4 21.41c.39.39.9.59 1.41.59.51 0 1.02-.2 1.41-.59l7.78-7.78 2.81-2.81c.8-.78.8-2.07 0-2.86zM5.41 20L4 18.59l7.72-7.72 1.47 1.35L5.41 20z\"/>\n",
              "  </svg>\n",
              "      </button>\n",
              "      \n",
              "  <style>\n",
              "    .colab-df-container {\n",
              "      display:flex;\n",
              "      flex-wrap:wrap;\n",
              "      gap: 12px;\n",
              "    }\n",
              "\n",
              "    .colab-df-convert {\n",
              "      background-color: #E8F0FE;\n",
              "      border: none;\n",
              "      border-radius: 50%;\n",
              "      cursor: pointer;\n",
              "      display: none;\n",
              "      fill: #1967D2;\n",
              "      height: 32px;\n",
              "      padding: 0 0 0 0;\n",
              "      width: 32px;\n",
              "    }\n",
              "\n",
              "    .colab-df-convert:hover {\n",
              "      background-color: #E2EBFA;\n",
              "      box-shadow: 0px 1px 2px rgba(60, 64, 67, 0.3), 0px 1px 3px 1px rgba(60, 64, 67, 0.15);\n",
              "      fill: #174EA6;\n",
              "    }\n",
              "\n",
              "    [theme=dark] .colab-df-convert {\n",
              "      background-color: #3B4455;\n",
              "      fill: #D2E3FC;\n",
              "    }\n",
              "\n",
              "    [theme=dark] .colab-df-convert:hover {\n",
              "      background-color: #434B5C;\n",
              "      box-shadow: 0px 1px 3px 1px rgba(0, 0, 0, 0.15);\n",
              "      filter: drop-shadow(0px 1px 2px rgba(0, 0, 0, 0.3));\n",
              "      fill: #FFFFFF;\n",
              "    }\n",
              "  </style>\n",
              "\n",
              "      <script>\n",
              "        const buttonEl =\n",
              "          document.querySelector('#df-b4ee2278-cfb9-4a65-8da4-049d3b1f1c90 button.colab-df-convert');\n",
              "        buttonEl.style.display =\n",
              "          google.colab.kernel.accessAllowed ? 'block' : 'none';\n",
              "\n",
              "        async function convertToInteractive(key) {\n",
              "          const element = document.querySelector('#df-b4ee2278-cfb9-4a65-8da4-049d3b1f1c90');\n",
              "          const dataTable =\n",
              "            await google.colab.kernel.invokeFunction('convertToInteractive',\n",
              "                                                     [key], {});\n",
              "          if (!dataTable) return;\n",
              "\n",
              "          const docLinkHtml = 'Like what you see? Visit the ' +\n",
              "            '<a target=\"_blank\" href=https://colab.research.google.com/notebooks/data_table.ipynb>data table notebook</a>'\n",
              "            + ' to learn more about interactive tables.';\n",
              "          element.innerHTML = '';\n",
              "          dataTable['output_type'] = 'display_data';\n",
              "          await google.colab.output.renderOutput(dataTable, element);\n",
              "          const docLink = document.createElement('div');\n",
              "          docLink.innerHTML = docLinkHtml;\n",
              "          element.appendChild(docLink);\n",
              "        }\n",
              "      </script>\n",
              "    </div>\n",
              "  </div>\n",
              "  "
            ]
          },
          "metadata": {},
          "execution_count": 51
        }
      ],
      "source": [
        "df.head()"
      ]
    },
    {
      "cell_type": "markdown",
      "id": "5ac2ced5",
      "metadata": {
        "id": "5ac2ced5"
      },
      "source": [
        "Most of these columns shouldn't actually matter for our prediction\n"
      ]
    },
    {
      "cell_type": "code",
      "execution_count": 52,
      "id": "84c1a01e",
      "metadata": {
        "colab": {
          "base_uri": "https://localhost:8080/",
          "height": 241
        },
        "id": "84c1a01e",
        "outputId": "a527544c-32fb-4cd7-a47a-7c178bec8f0c"
      },
      "outputs": [
        {
          "output_type": "stream",
          "name": "stderr",
          "text": [
            "/usr/local/lib/python3.7/dist-packages/ipykernel_launcher.py:1: FutureWarning: In a future version of pandas all arguments of DataFrame.drop except for the argument 'labels' will be keyword-only\n",
            "  \"\"\"Entry point for launching an IPython kernel.\n"
          ]
        },
        {
          "output_type": "execute_result",
          "data": {
            "text/plain": [
              "                                          reviewText  \\\n",
              "0         Have 30 of these in operation great lights   \n",
              "1  Good replacement.  I prefer my Rovner L5, but ...   \n",
              "2  My son & band teacher loves it. Really nice. B...   \n",
              "3  This was a gift for a friend who is a fan of t...   \n",
              "4  Wish it would attach to my violin a little eas...   \n",
              "\n",
              "                                             summary    rating  \n",
              "0                                         Five Stars  positive  \n",
              "1            Good replacement. I prefer my Rovner L5  positive  \n",
              "2               Really Helps With Their Practice Pad  positive  \n",
              "3                                       Guitar picks  positive  \n",
              "4  ... to my violin a little easier but it works ...  positive  "
            ],
            "text/html": [
              "\n",
              "  <div id=\"df-e1cf9931-3789-4e0c-9157-fd5c1431bc6a\">\n",
              "    <div class=\"colab-df-container\">\n",
              "      <div>\n",
              "<style scoped>\n",
              "    .dataframe tbody tr th:only-of-type {\n",
              "        vertical-align: middle;\n",
              "    }\n",
              "\n",
              "    .dataframe tbody tr th {\n",
              "        vertical-align: top;\n",
              "    }\n",
              "\n",
              "    .dataframe thead th {\n",
              "        text-align: right;\n",
              "    }\n",
              "</style>\n",
              "<table border=\"1\" class=\"dataframe\">\n",
              "  <thead>\n",
              "    <tr style=\"text-align: right;\">\n",
              "      <th></th>\n",
              "      <th>reviewText</th>\n",
              "      <th>summary</th>\n",
              "      <th>rating</th>\n",
              "    </tr>\n",
              "  </thead>\n",
              "  <tbody>\n",
              "    <tr>\n",
              "      <th>0</th>\n",
              "      <td>Have 30 of these in operation great lights</td>\n",
              "      <td>Five Stars</td>\n",
              "      <td>positive</td>\n",
              "    </tr>\n",
              "    <tr>\n",
              "      <th>1</th>\n",
              "      <td>Good replacement.  I prefer my Rovner L5, but ...</td>\n",
              "      <td>Good replacement. I prefer my Rovner L5</td>\n",
              "      <td>positive</td>\n",
              "    </tr>\n",
              "    <tr>\n",
              "      <th>2</th>\n",
              "      <td>My son &amp; band teacher loves it. Really nice. B...</td>\n",
              "      <td>Really Helps With Their Practice Pad</td>\n",
              "      <td>positive</td>\n",
              "    </tr>\n",
              "    <tr>\n",
              "      <th>3</th>\n",
              "      <td>This was a gift for a friend who is a fan of t...</td>\n",
              "      <td>Guitar picks</td>\n",
              "      <td>positive</td>\n",
              "    </tr>\n",
              "    <tr>\n",
              "      <th>4</th>\n",
              "      <td>Wish it would attach to my violin a little eas...</td>\n",
              "      <td>... to my violin a little easier but it works ...</td>\n",
              "      <td>positive</td>\n",
              "    </tr>\n",
              "  </tbody>\n",
              "</table>\n",
              "</div>\n",
              "      <button class=\"colab-df-convert\" onclick=\"convertToInteractive('df-e1cf9931-3789-4e0c-9157-fd5c1431bc6a')\"\n",
              "              title=\"Convert this dataframe to an interactive table.\"\n",
              "              style=\"display:none;\">\n",
              "        \n",
              "  <svg xmlns=\"http://www.w3.org/2000/svg\" height=\"24px\"viewBox=\"0 0 24 24\"\n",
              "       width=\"24px\">\n",
              "    <path d=\"M0 0h24v24H0V0z\" fill=\"none\"/>\n",
              "    <path d=\"M18.56 5.44l.94 2.06.94-2.06 2.06-.94-2.06-.94-.94-2.06-.94 2.06-2.06.94zm-11 1L8.5 8.5l.94-2.06 2.06-.94-2.06-.94L8.5 2.5l-.94 2.06-2.06.94zm10 10l.94 2.06.94-2.06 2.06-.94-2.06-.94-.94-2.06-.94 2.06-2.06.94z\"/><path d=\"M17.41 7.96l-1.37-1.37c-.4-.4-.92-.59-1.43-.59-.52 0-1.04.2-1.43.59L10.3 9.45l-7.72 7.72c-.78.78-.78 2.05 0 2.83L4 21.41c.39.39.9.59 1.41.59.51 0 1.02-.2 1.41-.59l7.78-7.78 2.81-2.81c.8-.78.8-2.07 0-2.86zM5.41 20L4 18.59l7.72-7.72 1.47 1.35L5.41 20z\"/>\n",
              "  </svg>\n",
              "      </button>\n",
              "      \n",
              "  <style>\n",
              "    .colab-df-container {\n",
              "      display:flex;\n",
              "      flex-wrap:wrap;\n",
              "      gap: 12px;\n",
              "    }\n",
              "\n",
              "    .colab-df-convert {\n",
              "      background-color: #E8F0FE;\n",
              "      border: none;\n",
              "      border-radius: 50%;\n",
              "      cursor: pointer;\n",
              "      display: none;\n",
              "      fill: #1967D2;\n",
              "      height: 32px;\n",
              "      padding: 0 0 0 0;\n",
              "      width: 32px;\n",
              "    }\n",
              "\n",
              "    .colab-df-convert:hover {\n",
              "      background-color: #E2EBFA;\n",
              "      box-shadow: 0px 1px 2px rgba(60, 64, 67, 0.3), 0px 1px 3px 1px rgba(60, 64, 67, 0.15);\n",
              "      fill: #174EA6;\n",
              "    }\n",
              "\n",
              "    [theme=dark] .colab-df-convert {\n",
              "      background-color: #3B4455;\n",
              "      fill: #D2E3FC;\n",
              "    }\n",
              "\n",
              "    [theme=dark] .colab-df-convert:hover {\n",
              "      background-color: #434B5C;\n",
              "      box-shadow: 0px 1px 3px 1px rgba(0, 0, 0, 0.15);\n",
              "      filter: drop-shadow(0px 1px 2px rgba(0, 0, 0, 0.3));\n",
              "      fill: #FFFFFF;\n",
              "    }\n",
              "  </style>\n",
              "\n",
              "      <script>\n",
              "        const buttonEl =\n",
              "          document.querySelector('#df-e1cf9931-3789-4e0c-9157-fd5c1431bc6a button.colab-df-convert');\n",
              "        buttonEl.style.display =\n",
              "          google.colab.kernel.accessAllowed ? 'block' : 'none';\n",
              "\n",
              "        async function convertToInteractive(key) {\n",
              "          const element = document.querySelector('#df-e1cf9931-3789-4e0c-9157-fd5c1431bc6a');\n",
              "          const dataTable =\n",
              "            await google.colab.kernel.invokeFunction('convertToInteractive',\n",
              "                                                     [key], {});\n",
              "          if (!dataTable) return;\n",
              "\n",
              "          const docLinkHtml = 'Like what you see? Visit the ' +\n",
              "            '<a target=\"_blank\" href=https://colab.research.google.com/notebooks/data_table.ipynb>data table notebook</a>'\n",
              "            + ' to learn more about interactive tables.';\n",
              "          element.innerHTML = '';\n",
              "          dataTable['output_type'] = 'display_data';\n",
              "          await google.colab.output.renderOutput(dataTable, element);\n",
              "          const docLink = document.createElement('div');\n",
              "          docLink.innerHTML = docLinkHtml;\n",
              "          element.appendChild(docLink);\n",
              "        }\n",
              "      </script>\n",
              "    </div>\n",
              "  </div>\n",
              "  "
            ]
          },
          "metadata": {},
          "execution_count": 52
        }
      ],
      "source": [
        "df = df.drop(['reviewTime', 'reviewerID', 'asin', 'reviewerName', 'unixReviewTime', 'style', 'image', 'verified', 'vote'],1)\n",
        "df.head()"
      ]
    },
    {
      "cell_type": "code",
      "execution_count": 53,
      "id": "a93a4c99",
      "metadata": {
        "colab": {
          "base_uri": "https://localhost:8080/"
        },
        "id": "a93a4c99",
        "outputId": "c1ae2959-f472-4fe3-901c-60faaa4ecb50"
      },
      "outputs": [
        {
          "output_type": "execute_result",
          "data": {
            "text/plain": [
              "reviewText    48\n",
              "summary       48\n",
              "dtype: int64"
            ]
          },
          "metadata": {},
          "execution_count": 53
        }
      ],
      "source": [
        "df.isnull().sum()[df.isnull().sum() != 0]"
      ]
    },
    {
      "cell_type": "code",
      "execution_count": 54,
      "id": "98128b7e",
      "metadata": {
        "colab": {
          "base_uri": "https://localhost:8080/"
        },
        "id": "98128b7e",
        "outputId": "10afabcd-039f-49fd-85ad-4c522e18dc05"
      },
      "outputs": [
        {
          "output_type": "execute_result",
          "data": {
            "text/plain": [
              "(221297, 3)"
            ]
          },
          "metadata": {},
          "execution_count": 54
        }
      ],
      "source": [
        "df = df.dropna()\n",
        "df.shape"
      ]
    },
    {
      "cell_type": "code",
      "execution_count": 55,
      "id": "845f723a",
      "metadata": {
        "colab": {
          "base_uri": "https://localhost:8080/",
          "height": 206
        },
        "id": "845f723a",
        "outputId": "6160888d-aa90-4553-bb20-bb08779809ff"
      },
      "outputs": [
        {
          "output_type": "execute_result",
          "data": {
            "text/plain": [
              "                                          reviewText  \\\n",
              "0         Have 30 of these in operation great lights   \n",
              "1  Good replacement.  I prefer my Rovner L5, but ...   \n",
              "2  My son & band teacher loves it. Really nice. B...   \n",
              "3  This was a gift for a friend who is a fan of t...   \n",
              "4  Wish it would attach to my violin a little eas...   \n",
              "\n",
              "                                             summary    rating  \n",
              "0                                         Five Stars  positive  \n",
              "1            Good replacement. I prefer my Rovner L5  positive  \n",
              "2               Really Helps With Their Practice Pad  positive  \n",
              "3                                       Guitar picks  positive  \n",
              "4  ... to my violin a little easier but it works ...  positive  "
            ],
            "text/html": [
              "\n",
              "  <div id=\"df-362c7da1-c9eb-4816-adef-25f8b70271d7\">\n",
              "    <div class=\"colab-df-container\">\n",
              "      <div>\n",
              "<style scoped>\n",
              "    .dataframe tbody tr th:only-of-type {\n",
              "        vertical-align: middle;\n",
              "    }\n",
              "\n",
              "    .dataframe tbody tr th {\n",
              "        vertical-align: top;\n",
              "    }\n",
              "\n",
              "    .dataframe thead th {\n",
              "        text-align: right;\n",
              "    }\n",
              "</style>\n",
              "<table border=\"1\" class=\"dataframe\">\n",
              "  <thead>\n",
              "    <tr style=\"text-align: right;\">\n",
              "      <th></th>\n",
              "      <th>reviewText</th>\n",
              "      <th>summary</th>\n",
              "      <th>rating</th>\n",
              "    </tr>\n",
              "  </thead>\n",
              "  <tbody>\n",
              "    <tr>\n",
              "      <th>0</th>\n",
              "      <td>Have 30 of these in operation great lights</td>\n",
              "      <td>Five Stars</td>\n",
              "      <td>positive</td>\n",
              "    </tr>\n",
              "    <tr>\n",
              "      <th>1</th>\n",
              "      <td>Good replacement.  I prefer my Rovner L5, but ...</td>\n",
              "      <td>Good replacement. I prefer my Rovner L5</td>\n",
              "      <td>positive</td>\n",
              "    </tr>\n",
              "    <tr>\n",
              "      <th>2</th>\n",
              "      <td>My son &amp; band teacher loves it. Really nice. B...</td>\n",
              "      <td>Really Helps With Their Practice Pad</td>\n",
              "      <td>positive</td>\n",
              "    </tr>\n",
              "    <tr>\n",
              "      <th>3</th>\n",
              "      <td>This was a gift for a friend who is a fan of t...</td>\n",
              "      <td>Guitar picks</td>\n",
              "      <td>positive</td>\n",
              "    </tr>\n",
              "    <tr>\n",
              "      <th>4</th>\n",
              "      <td>Wish it would attach to my violin a little eas...</td>\n",
              "      <td>... to my violin a little easier but it works ...</td>\n",
              "      <td>positive</td>\n",
              "    </tr>\n",
              "  </tbody>\n",
              "</table>\n",
              "</div>\n",
              "      <button class=\"colab-df-convert\" onclick=\"convertToInteractive('df-362c7da1-c9eb-4816-adef-25f8b70271d7')\"\n",
              "              title=\"Convert this dataframe to an interactive table.\"\n",
              "              style=\"display:none;\">\n",
              "        \n",
              "  <svg xmlns=\"http://www.w3.org/2000/svg\" height=\"24px\"viewBox=\"0 0 24 24\"\n",
              "       width=\"24px\">\n",
              "    <path d=\"M0 0h24v24H0V0z\" fill=\"none\"/>\n",
              "    <path d=\"M18.56 5.44l.94 2.06.94-2.06 2.06-.94-2.06-.94-.94-2.06-.94 2.06-2.06.94zm-11 1L8.5 8.5l.94-2.06 2.06-.94-2.06-.94L8.5 2.5l-.94 2.06-2.06.94zm10 10l.94 2.06.94-2.06 2.06-.94-2.06-.94-.94-2.06-.94 2.06-2.06.94z\"/><path d=\"M17.41 7.96l-1.37-1.37c-.4-.4-.92-.59-1.43-.59-.52 0-1.04.2-1.43.59L10.3 9.45l-7.72 7.72c-.78.78-.78 2.05 0 2.83L4 21.41c.39.39.9.59 1.41.59.51 0 1.02-.2 1.41-.59l7.78-7.78 2.81-2.81c.8-.78.8-2.07 0-2.86zM5.41 20L4 18.59l7.72-7.72 1.47 1.35L5.41 20z\"/>\n",
              "  </svg>\n",
              "      </button>\n",
              "      \n",
              "  <style>\n",
              "    .colab-df-container {\n",
              "      display:flex;\n",
              "      flex-wrap:wrap;\n",
              "      gap: 12px;\n",
              "    }\n",
              "\n",
              "    .colab-df-convert {\n",
              "      background-color: #E8F0FE;\n",
              "      border: none;\n",
              "      border-radius: 50%;\n",
              "      cursor: pointer;\n",
              "      display: none;\n",
              "      fill: #1967D2;\n",
              "      height: 32px;\n",
              "      padding: 0 0 0 0;\n",
              "      width: 32px;\n",
              "    }\n",
              "\n",
              "    .colab-df-convert:hover {\n",
              "      background-color: #E2EBFA;\n",
              "      box-shadow: 0px 1px 2px rgba(60, 64, 67, 0.3), 0px 1px 3px 1px rgba(60, 64, 67, 0.15);\n",
              "      fill: #174EA6;\n",
              "    }\n",
              "\n",
              "    [theme=dark] .colab-df-convert {\n",
              "      background-color: #3B4455;\n",
              "      fill: #D2E3FC;\n",
              "    }\n",
              "\n",
              "    [theme=dark] .colab-df-convert:hover {\n",
              "      background-color: #434B5C;\n",
              "      box-shadow: 0px 1px 3px 1px rgba(0, 0, 0, 0.15);\n",
              "      filter: drop-shadow(0px 1px 2px rgba(0, 0, 0, 0.3));\n",
              "      fill: #FFFFFF;\n",
              "    }\n",
              "  </style>\n",
              "\n",
              "      <script>\n",
              "        const buttonEl =\n",
              "          document.querySelector('#df-362c7da1-c9eb-4816-adef-25f8b70271d7 button.colab-df-convert');\n",
              "        buttonEl.style.display =\n",
              "          google.colab.kernel.accessAllowed ? 'block' : 'none';\n",
              "\n",
              "        async function convertToInteractive(key) {\n",
              "          const element = document.querySelector('#df-362c7da1-c9eb-4816-adef-25f8b70271d7');\n",
              "          const dataTable =\n",
              "            await google.colab.kernel.invokeFunction('convertToInteractive',\n",
              "                                                     [key], {});\n",
              "          if (!dataTable) return;\n",
              "\n",
              "          const docLinkHtml = 'Like what you see? Visit the ' +\n",
              "            '<a target=\"_blank\" href=https://colab.research.google.com/notebooks/data_table.ipynb>data table notebook</a>'\n",
              "            + ' to learn more about interactive tables.';\n",
              "          element.innerHTML = '';\n",
              "          dataTable['output_type'] = 'display_data';\n",
              "          await google.colab.output.renderOutput(dataTable, element);\n",
              "          const docLink = document.createElement('div');\n",
              "          docLink.innerHTML = docLinkHtml;\n",
              "          element.appendChild(docLink);\n",
              "        }\n",
              "      </script>\n",
              "    </div>\n",
              "  </div>\n",
              "  "
            ]
          },
          "metadata": {},
          "execution_count": 55
        }
      ],
      "source": [
        "df.head()"
      ]
    },
    {
      "cell_type": "code",
      "execution_count": 56,
      "id": "4a43f928",
      "metadata": {
        "id": "4a43f928"
      },
      "outputs": [],
      "source": [
        "import re\n",
        "from nltk.tokenize import word_tokenize\n",
        "from nltk.stem import PorterStemmer\n",
        "from nltk.corpus import stopwords\n",
        "stop_words = set(stopwords.words('english'))\n",
        "def data_processing(text):\n",
        "    text = text.lower()\n",
        "    text = re.sub(r\"http\\S+www\\S+|https\\S+\", '', text, flags= re.MULTILINE)\n",
        "    text = re.sub(r'[^\\w\\s]','',text)\n",
        "    text_tokens = word_tokenize(text)\n",
        "    filtered_text = [w for w in text_tokens if not w in stop_words]\n",
        "    return \" \".join(filtered_text)"
      ]
    },
    {
      "cell_type": "code",
      "execution_count": 57,
      "id": "654719b1",
      "metadata": {
        "id": "654719b1"
      },
      "outputs": [],
      "source": [
        "df.reviewText = df['reviewText'].apply(data_processing)\n",
        "df.summary = df['summary'].apply(data_processing)"
      ]
    },
    {
      "cell_type": "code",
      "execution_count": 58,
      "id": "cb5e32b5",
      "metadata": {
        "id": "cb5e32b5"
      },
      "outputs": [],
      "source": [
        "stemmer = PorterStemmer()\n",
        "def stemming(data):\n",
        "    text = [stemmer.stem(word) for word in data]\n",
        "    return data"
      ]
    },
    {
      "cell_type": "code",
      "execution_count": 59,
      "id": "bdd9d525",
      "metadata": {
        "id": "bdd9d525"
      },
      "outputs": [],
      "source": [
        "df['reviewText'] = df['reviewText'].apply(lambda x: stemming(x))\n",
        "df['summary'] = df['summary'].apply(lambda x: stemming(x))"
      ]
    },
    {
      "cell_type": "code",
      "execution_count": 60,
      "id": "c5320924",
      "metadata": {
        "colab": {
          "base_uri": "https://localhost:8080/",
          "height": 241
        },
        "id": "c5320924",
        "outputId": "34327bd4-8ded-4f12-8725-cfefc5e6b316"
      },
      "outputs": [
        {
          "output_type": "stream",
          "name": "stderr",
          "text": [
            "/usr/local/lib/python3.7/dist-packages/ipykernel_launcher.py:2: FutureWarning: In a future version of pandas all arguments of DataFrame.drop except for the argument 'labels' will be keyword-only\n",
            "  \n"
          ]
        },
        {
          "output_type": "execute_result",
          "data": {
            "text/plain": [
              "     rating                                               text\n",
              "0  positive               30 operation great lights five stars\n",
              "1  positive  good replacement prefer rovner l5 theres nothi...\n",
              "2  positive  son band teacher loves really nice bought pad ...\n",
              "3  positive    gift friend fan beatles happy gift guitar picks\n",
              "4  positive  wish would attach violin little easier works g..."
            ],
            "text/html": [
              "\n",
              "  <div id=\"df-e80d7ca0-2fc3-4c93-afce-19da1a9f2405\">\n",
              "    <div class=\"colab-df-container\">\n",
              "      <div>\n",
              "<style scoped>\n",
              "    .dataframe tbody tr th:only-of-type {\n",
              "        vertical-align: middle;\n",
              "    }\n",
              "\n",
              "    .dataframe tbody tr th {\n",
              "        vertical-align: top;\n",
              "    }\n",
              "\n",
              "    .dataframe thead th {\n",
              "        text-align: right;\n",
              "    }\n",
              "</style>\n",
              "<table border=\"1\" class=\"dataframe\">\n",
              "  <thead>\n",
              "    <tr style=\"text-align: right;\">\n",
              "      <th></th>\n",
              "      <th>rating</th>\n",
              "      <th>text</th>\n",
              "    </tr>\n",
              "  </thead>\n",
              "  <tbody>\n",
              "    <tr>\n",
              "      <th>0</th>\n",
              "      <td>positive</td>\n",
              "      <td>30 operation great lights five stars</td>\n",
              "    </tr>\n",
              "    <tr>\n",
              "      <th>1</th>\n",
              "      <td>positive</td>\n",
              "      <td>good replacement prefer rovner l5 theres nothi...</td>\n",
              "    </tr>\n",
              "    <tr>\n",
              "      <th>2</th>\n",
              "      <td>positive</td>\n",
              "      <td>son band teacher loves really nice bought pad ...</td>\n",
              "    </tr>\n",
              "    <tr>\n",
              "      <th>3</th>\n",
              "      <td>positive</td>\n",
              "      <td>gift friend fan beatles happy gift guitar picks</td>\n",
              "    </tr>\n",
              "    <tr>\n",
              "      <th>4</th>\n",
              "      <td>positive</td>\n",
              "      <td>wish would attach violin little easier works g...</td>\n",
              "    </tr>\n",
              "  </tbody>\n",
              "</table>\n",
              "</div>\n",
              "      <button class=\"colab-df-convert\" onclick=\"convertToInteractive('df-e80d7ca0-2fc3-4c93-afce-19da1a9f2405')\"\n",
              "              title=\"Convert this dataframe to an interactive table.\"\n",
              "              style=\"display:none;\">\n",
              "        \n",
              "  <svg xmlns=\"http://www.w3.org/2000/svg\" height=\"24px\"viewBox=\"0 0 24 24\"\n",
              "       width=\"24px\">\n",
              "    <path d=\"M0 0h24v24H0V0z\" fill=\"none\"/>\n",
              "    <path d=\"M18.56 5.44l.94 2.06.94-2.06 2.06-.94-2.06-.94-.94-2.06-.94 2.06-2.06.94zm-11 1L8.5 8.5l.94-2.06 2.06-.94-2.06-.94L8.5 2.5l-.94 2.06-2.06.94zm10 10l.94 2.06.94-2.06 2.06-.94-2.06-.94-.94-2.06-.94 2.06-2.06.94z\"/><path d=\"M17.41 7.96l-1.37-1.37c-.4-.4-.92-.59-1.43-.59-.52 0-1.04.2-1.43.59L10.3 9.45l-7.72 7.72c-.78.78-.78 2.05 0 2.83L4 21.41c.39.39.9.59 1.41.59.51 0 1.02-.2 1.41-.59l7.78-7.78 2.81-2.81c.8-.78.8-2.07 0-2.86zM5.41 20L4 18.59l7.72-7.72 1.47 1.35L5.41 20z\"/>\n",
              "  </svg>\n",
              "      </button>\n",
              "      \n",
              "  <style>\n",
              "    .colab-df-container {\n",
              "      display:flex;\n",
              "      flex-wrap:wrap;\n",
              "      gap: 12px;\n",
              "    }\n",
              "\n",
              "    .colab-df-convert {\n",
              "      background-color: #E8F0FE;\n",
              "      border: none;\n",
              "      border-radius: 50%;\n",
              "      cursor: pointer;\n",
              "      display: none;\n",
              "      fill: #1967D2;\n",
              "      height: 32px;\n",
              "      padding: 0 0 0 0;\n",
              "      width: 32px;\n",
              "    }\n",
              "\n",
              "    .colab-df-convert:hover {\n",
              "      background-color: #E2EBFA;\n",
              "      box-shadow: 0px 1px 2px rgba(60, 64, 67, 0.3), 0px 1px 3px 1px rgba(60, 64, 67, 0.15);\n",
              "      fill: #174EA6;\n",
              "    }\n",
              "\n",
              "    [theme=dark] .colab-df-convert {\n",
              "      background-color: #3B4455;\n",
              "      fill: #D2E3FC;\n",
              "    }\n",
              "\n",
              "    [theme=dark] .colab-df-convert:hover {\n",
              "      background-color: #434B5C;\n",
              "      box-shadow: 0px 1px 3px 1px rgba(0, 0, 0, 0.15);\n",
              "      filter: drop-shadow(0px 1px 2px rgba(0, 0, 0, 0.3));\n",
              "      fill: #FFFFFF;\n",
              "    }\n",
              "  </style>\n",
              "\n",
              "      <script>\n",
              "        const buttonEl =\n",
              "          document.querySelector('#df-e80d7ca0-2fc3-4c93-afce-19da1a9f2405 button.colab-df-convert');\n",
              "        buttonEl.style.display =\n",
              "          google.colab.kernel.accessAllowed ? 'block' : 'none';\n",
              "\n",
              "        async function convertToInteractive(key) {\n",
              "          const element = document.querySelector('#df-e80d7ca0-2fc3-4c93-afce-19da1a9f2405');\n",
              "          const dataTable =\n",
              "            await google.colab.kernel.invokeFunction('convertToInteractive',\n",
              "                                                     [key], {});\n",
              "          if (!dataTable) return;\n",
              "\n",
              "          const docLinkHtml = 'Like what you see? Visit the ' +\n",
              "            '<a target=\"_blank\" href=https://colab.research.google.com/notebooks/data_table.ipynb>data table notebook</a>'\n",
              "            + ' to learn more about interactive tables.';\n",
              "          element.innerHTML = '';\n",
              "          dataTable['output_type'] = 'display_data';\n",
              "          await google.colab.output.renderOutput(dataTable, element);\n",
              "          const docLink = document.createElement('div');\n",
              "          docLink.innerHTML = docLinkHtml;\n",
              "          element.appendChild(docLink);\n",
              "        }\n",
              "      </script>\n",
              "    </div>\n",
              "  </div>\n",
              "  "
            ]
          },
          "metadata": {},
          "execution_count": 60
        }
      ],
      "source": [
        "df['text'] = df['reviewText'] + \" \" + df['summary']\n",
        "df = df.drop(['reviewText', 'summary'],1)\n",
        "df.head()"
      ]
    },
    {
      "cell_type": "code",
      "execution_count": 61,
      "id": "60d813f7",
      "metadata": {
        "colab": {
          "base_uri": "https://localhost:8080/"
        },
        "id": "60d813f7",
        "outputId": "7744ee3f-5e9b-499f-8be0-d80cb42e8754"
      },
      "outputs": [
        {
          "output_type": "stream",
          "name": "stderr",
          "text": [
            "/usr/local/lib/python3.7/dist-packages/ipykernel_launcher.py:3: FutureWarning: In a future version of pandas all arguments of DataFrame.drop except for the argument 'labels' will be keyword-only\n",
            "  This is separate from the ipykernel package so we can avoid doing imports until\n"
          ]
        }
      ],
      "source": [
        "from sklearn.model_selection import train_test_split\n",
        "\n",
        "X = df.drop(['rating'],1)\n",
        "Y = df['rating']"
      ]
    },
    {
      "cell_type": "code",
      "execution_count": 62,
      "id": "3a657483",
      "metadata": {
        "id": "3a657483"
      },
      "outputs": [],
      "source": [
        "from sklearn.feature_extraction.text import CountVectorizer\n",
        "cv = CountVectorizer()\n",
        "X = cv.fit_transform(df['text'])\n"
      ]
    },
    {
      "cell_type": "code",
      "execution_count": 63,
      "id": "29f05bb8",
      "metadata": {
        "id": "29f05bb8"
      },
      "outputs": [],
      "source": [
        "X_train, X_test, Y_train, Y_test = train_test_split(X, Y, test_size=0.2, random_state=12345)"
      ]
    },
    {
      "cell_type": "code",
      "execution_count": 64,
      "id": "b1b93166",
      "metadata": {
        "colab": {
          "base_uri": "https://localhost:8080/"
        },
        "id": "b1b93166",
        "outputId": "dc182a00-aeff-4742-e744-c5143d906e98"
      },
      "outputs": [
        {
          "output_type": "stream",
          "name": "stdout",
          "text": [
            "Test accuracy: 91.04%\n"
          ]
        }
      ],
      "source": [
        "from sklearn.linear_model import LogisticRegression\n",
        "from sklearn.metrics import accuracy_score\n",
        "logreg = LogisticRegression(max_iter=1000)\n",
        "logreg.fit(X_train, Y_train)\n",
        "logreg_pred = logreg.predict(X_test)\n",
        "logreg_acc = accuracy_score(logreg_pred, Y_test)\n",
        "print(\"Test accuracy: {:.2f}%\".format(logreg_acc*100))"
      ]
    },
    {
      "cell_type": "code",
      "execution_count": 65,
      "id": "1b0fd601",
      "metadata": {
        "id": "1b0fd601"
      },
      "outputs": [],
      "source": [
        "test = pd.read_csv('amazonReviewsTest.csv')"
      ]
    },
    {
      "cell_type": "code",
      "execution_count": 66,
      "id": "cfba9f8f",
      "metadata": {
        "colab": {
          "base_uri": "https://localhost:8080/",
          "height": 206
        },
        "id": "cfba9f8f",
        "outputId": "abe9b66b-f985-4a24-8fa7-84c89dd291c0"
      },
      "outputs": [
        {
          "output_type": "execute_result",
          "data": {
            "text/plain": [
              "   verified   reviewTime      reviewerID        asin       reviewerName  \\\n",
              "0     False  08 17, 2016   AMKHFIJJ81LYJ  B00EA1U1X6           Frank P.   \n",
              "1      True  08 22, 2015   A3SZ045Z7CP56  B0002GNUYU  David A. Caufield   \n",
              "2      True  07 30, 2014   AZMSVSJFACBPB  B0006LOBA8          Neurofizz   \n",
              "3      True   03 9, 2012  A39SRYB2M0Z5FG  B000Y30NAA           s.reeths   \n",
              "4      True   02 3, 2013  A35A62ZXXKXHIW  B002N4ZBE6        Marine Docl   \n",
              "\n",
              "                                          reviewText  \\\n",
              "0  I am a (very amateur) EDM and Hip Hop Producer...   \n",
              "1  These are pretty beefy strings even for black ...   \n",
              "2  I've played every new \"improved\" string out th...   \n",
              "3  I thought I would give this pedal a try, becau...   \n",
              "4  Been wanting to try one for over a year.  Good...   \n",
              "\n",
              "                                             summary  unixReviewTime  vote  \\\n",
              "0                                   Extremely Happy.      1471392000   NaN   \n",
              "1  once again, Rotosound strings fail to impress ...      1440201600   NaN   \n",
              "2  and keep coming home to the girls that really ...      1406678400   NaN   \n",
              "3                         save up for a better pedal      1331251200   NaN   \n",
              "4                                            Big Six      1359849600   NaN   \n",
              "\n",
              "                               style image  \n",
              "0  {'style:': ' 5\" Monitor Speaker'}   NaN  \n",
              "1                                NaN   NaN  \n",
              "2                                NaN   NaN  \n",
              "3              {'Style:': ' CHORUS'}   NaN  \n",
              "4                                NaN   NaN  "
            ],
            "text/html": [
              "\n",
              "  <div id=\"df-c99f6c6a-592c-4d31-8d9e-ca28536ee41e\">\n",
              "    <div class=\"colab-df-container\">\n",
              "      <div>\n",
              "<style scoped>\n",
              "    .dataframe tbody tr th:only-of-type {\n",
              "        vertical-align: middle;\n",
              "    }\n",
              "\n",
              "    .dataframe tbody tr th {\n",
              "        vertical-align: top;\n",
              "    }\n",
              "\n",
              "    .dataframe thead th {\n",
              "        text-align: right;\n",
              "    }\n",
              "</style>\n",
              "<table border=\"1\" class=\"dataframe\">\n",
              "  <thead>\n",
              "    <tr style=\"text-align: right;\">\n",
              "      <th></th>\n",
              "      <th>verified</th>\n",
              "      <th>reviewTime</th>\n",
              "      <th>reviewerID</th>\n",
              "      <th>asin</th>\n",
              "      <th>reviewerName</th>\n",
              "      <th>reviewText</th>\n",
              "      <th>summary</th>\n",
              "      <th>unixReviewTime</th>\n",
              "      <th>vote</th>\n",
              "      <th>style</th>\n",
              "      <th>image</th>\n",
              "    </tr>\n",
              "  </thead>\n",
              "  <tbody>\n",
              "    <tr>\n",
              "      <th>0</th>\n",
              "      <td>False</td>\n",
              "      <td>08 17, 2016</td>\n",
              "      <td>AMKHFIJJ81LYJ</td>\n",
              "      <td>B00EA1U1X6</td>\n",
              "      <td>Frank P.</td>\n",
              "      <td>I am a (very amateur) EDM and Hip Hop Producer...</td>\n",
              "      <td>Extremely Happy.</td>\n",
              "      <td>1471392000</td>\n",
              "      <td>NaN</td>\n",
              "      <td>{'style:': ' 5\" Monitor Speaker'}</td>\n",
              "      <td>NaN</td>\n",
              "    </tr>\n",
              "    <tr>\n",
              "      <th>1</th>\n",
              "      <td>True</td>\n",
              "      <td>08 22, 2015</td>\n",
              "      <td>A3SZ045Z7CP56</td>\n",
              "      <td>B0002GNUYU</td>\n",
              "      <td>David A. Caufield</td>\n",
              "      <td>These are pretty beefy strings even for black ...</td>\n",
              "      <td>once again, Rotosound strings fail to impress ...</td>\n",
              "      <td>1440201600</td>\n",
              "      <td>NaN</td>\n",
              "      <td>NaN</td>\n",
              "      <td>NaN</td>\n",
              "    </tr>\n",
              "    <tr>\n",
              "      <th>2</th>\n",
              "      <td>True</td>\n",
              "      <td>07 30, 2014</td>\n",
              "      <td>AZMSVSJFACBPB</td>\n",
              "      <td>B0006LOBA8</td>\n",
              "      <td>Neurofizz</td>\n",
              "      <td>I've played every new \"improved\" string out th...</td>\n",
              "      <td>and keep coming home to the girls that really ...</td>\n",
              "      <td>1406678400</td>\n",
              "      <td>NaN</td>\n",
              "      <td>NaN</td>\n",
              "      <td>NaN</td>\n",
              "    </tr>\n",
              "    <tr>\n",
              "      <th>3</th>\n",
              "      <td>True</td>\n",
              "      <td>03 9, 2012</td>\n",
              "      <td>A39SRYB2M0Z5FG</td>\n",
              "      <td>B000Y30NAA</td>\n",
              "      <td>s.reeths</td>\n",
              "      <td>I thought I would give this pedal a try, becau...</td>\n",
              "      <td>save up for a better pedal</td>\n",
              "      <td>1331251200</td>\n",
              "      <td>NaN</td>\n",
              "      <td>{'Style:': ' CHORUS'}</td>\n",
              "      <td>NaN</td>\n",
              "    </tr>\n",
              "    <tr>\n",
              "      <th>4</th>\n",
              "      <td>True</td>\n",
              "      <td>02 3, 2013</td>\n",
              "      <td>A35A62ZXXKXHIW</td>\n",
              "      <td>B002N4ZBE6</td>\n",
              "      <td>Marine Docl</td>\n",
              "      <td>Been wanting to try one for over a year.  Good...</td>\n",
              "      <td>Big Six</td>\n",
              "      <td>1359849600</td>\n",
              "      <td>NaN</td>\n",
              "      <td>NaN</td>\n",
              "      <td>NaN</td>\n",
              "    </tr>\n",
              "  </tbody>\n",
              "</table>\n",
              "</div>\n",
              "      <button class=\"colab-df-convert\" onclick=\"convertToInteractive('df-c99f6c6a-592c-4d31-8d9e-ca28536ee41e')\"\n",
              "              title=\"Convert this dataframe to an interactive table.\"\n",
              "              style=\"display:none;\">\n",
              "        \n",
              "  <svg xmlns=\"http://www.w3.org/2000/svg\" height=\"24px\"viewBox=\"0 0 24 24\"\n",
              "       width=\"24px\">\n",
              "    <path d=\"M0 0h24v24H0V0z\" fill=\"none\"/>\n",
              "    <path d=\"M18.56 5.44l.94 2.06.94-2.06 2.06-.94-2.06-.94-.94-2.06-.94 2.06-2.06.94zm-11 1L8.5 8.5l.94-2.06 2.06-.94-2.06-.94L8.5 2.5l-.94 2.06-2.06.94zm10 10l.94 2.06.94-2.06 2.06-.94-2.06-.94-.94-2.06-.94 2.06-2.06.94z\"/><path d=\"M17.41 7.96l-1.37-1.37c-.4-.4-.92-.59-1.43-.59-.52 0-1.04.2-1.43.59L10.3 9.45l-7.72 7.72c-.78.78-.78 2.05 0 2.83L4 21.41c.39.39.9.59 1.41.59.51 0 1.02-.2 1.41-.59l7.78-7.78 2.81-2.81c.8-.78.8-2.07 0-2.86zM5.41 20L4 18.59l7.72-7.72 1.47 1.35L5.41 20z\"/>\n",
              "  </svg>\n",
              "      </button>\n",
              "      \n",
              "  <style>\n",
              "    .colab-df-container {\n",
              "      display:flex;\n",
              "      flex-wrap:wrap;\n",
              "      gap: 12px;\n",
              "    }\n",
              "\n",
              "    .colab-df-convert {\n",
              "      background-color: #E8F0FE;\n",
              "      border: none;\n",
              "      border-radius: 50%;\n",
              "      cursor: pointer;\n",
              "      display: none;\n",
              "      fill: #1967D2;\n",
              "      height: 32px;\n",
              "      padding: 0 0 0 0;\n",
              "      width: 32px;\n",
              "    }\n",
              "\n",
              "    .colab-df-convert:hover {\n",
              "      background-color: #E2EBFA;\n",
              "      box-shadow: 0px 1px 2px rgba(60, 64, 67, 0.3), 0px 1px 3px 1px rgba(60, 64, 67, 0.15);\n",
              "      fill: #174EA6;\n",
              "    }\n",
              "\n",
              "    [theme=dark] .colab-df-convert {\n",
              "      background-color: #3B4455;\n",
              "      fill: #D2E3FC;\n",
              "    }\n",
              "\n",
              "    [theme=dark] .colab-df-convert:hover {\n",
              "      background-color: #434B5C;\n",
              "      box-shadow: 0px 1px 3px 1px rgba(0, 0, 0, 0.15);\n",
              "      filter: drop-shadow(0px 1px 2px rgba(0, 0, 0, 0.3));\n",
              "      fill: #FFFFFF;\n",
              "    }\n",
              "  </style>\n",
              "\n",
              "      <script>\n",
              "        const buttonEl =\n",
              "          document.querySelector('#df-c99f6c6a-592c-4d31-8d9e-ca28536ee41e button.colab-df-convert');\n",
              "        buttonEl.style.display =\n",
              "          google.colab.kernel.accessAllowed ? 'block' : 'none';\n",
              "\n",
              "        async function convertToInteractive(key) {\n",
              "          const element = document.querySelector('#df-c99f6c6a-592c-4d31-8d9e-ca28536ee41e');\n",
              "          const dataTable =\n",
              "            await google.colab.kernel.invokeFunction('convertToInteractive',\n",
              "                                                     [key], {});\n",
              "          if (!dataTable) return;\n",
              "\n",
              "          const docLinkHtml = 'Like what you see? Visit the ' +\n",
              "            '<a target=\"_blank\" href=https://colab.research.google.com/notebooks/data_table.ipynb>data table notebook</a>'\n",
              "            + ' to learn more about interactive tables.';\n",
              "          element.innerHTML = '';\n",
              "          dataTable['output_type'] = 'display_data';\n",
              "          await google.colab.output.renderOutput(dataTable, element);\n",
              "          const docLink = document.createElement('div');\n",
              "          docLink.innerHTML = docLinkHtml;\n",
              "          element.appendChild(docLink);\n",
              "        }\n",
              "      </script>\n",
              "    </div>\n",
              "  </div>\n",
              "  "
            ]
          },
          "metadata": {},
          "execution_count": 66
        }
      ],
      "source": [
        "test.head()"
      ]
    },
    {
      "cell_type": "markdown",
      "id": "cbfcbfbe",
      "metadata": {
        "id": "cbfcbfbe"
      },
      "source": [
        "First apply the same preprocessing to our test dataframe"
      ]
    },
    {
      "cell_type": "code",
      "execution_count": 67,
      "id": "6be71674",
      "metadata": {
        "colab": {
          "base_uri": "https://localhost:8080/"
        },
        "id": "6be71674",
        "outputId": "c19a5c63-74d7-436b-caa3-55a7cd1876ed"
      },
      "outputs": [
        {
          "output_type": "stream",
          "name": "stderr",
          "text": [
            "/usr/local/lib/python3.7/dist-packages/ipykernel_launcher.py:1: FutureWarning: In a future version of pandas all arguments of DataFrame.drop except for the argument 'labels' will be keyword-only\n",
            "  \"\"\"Entry point for launching an IPython kernel.\n",
            "/usr/local/lib/python3.7/dist-packages/ipykernel_launcher.py:8: FutureWarning: In a future version of pandas all arguments of DataFrame.drop except for the argument 'labels' will be keyword-only\n",
            "  \n"
          ]
        }
      ],
      "source": [
        "test = test.drop(['reviewTime', 'reviewerID', 'asin', 'reviewerName', 'unixReviewTime', 'style', 'image', 'verified', 'vote'],1)\n",
        "test['summary'] = test['summary'].fillna(\"\")\n",
        "test.reviewText = test['reviewText'].apply(data_processing)\n",
        "test.summary = test['summary'].apply(data_processing)\n",
        "test['reviewText'] = test['reviewText'].apply(lambda x: stemming(x))\n",
        "test['summary'] = test['summary'].apply(lambda x: stemming(x))\n",
        "test['text'] = test['reviewText'] + \" \" + test['summary']\n",
        "test = test.drop(['reviewText', 'summary'],1)"
      ]
    },
    {
      "cell_type": "code",
      "execution_count": 68,
      "id": "69143847",
      "metadata": {
        "colab": {
          "base_uri": "https://localhost:8080/",
          "height": 206
        },
        "id": "69143847",
        "outputId": "d470b9ce-9595-482d-d040-182e5e5855b6"
      },
      "outputs": [
        {
          "output_type": "execute_result",
          "data": {
            "text/plain": [
              "                                                text\n",
              "0  amateur edm hip hop producer tight budget exce...\n",
              "1  pretty beefy strings even black nylons im used...\n",
              "2  ive played every new improved string keep comi...\n",
              "3  thought would give pedal try inexpensive usual...\n",
              "4  wanting try one year good quality sound like s..."
            ],
            "text/html": [
              "\n",
              "  <div id=\"df-a09094d2-8114-449b-be2c-ba4f008fc338\">\n",
              "    <div class=\"colab-df-container\">\n",
              "      <div>\n",
              "<style scoped>\n",
              "    .dataframe tbody tr th:only-of-type {\n",
              "        vertical-align: middle;\n",
              "    }\n",
              "\n",
              "    .dataframe tbody tr th {\n",
              "        vertical-align: top;\n",
              "    }\n",
              "\n",
              "    .dataframe thead th {\n",
              "        text-align: right;\n",
              "    }\n",
              "</style>\n",
              "<table border=\"1\" class=\"dataframe\">\n",
              "  <thead>\n",
              "    <tr style=\"text-align: right;\">\n",
              "      <th></th>\n",
              "      <th>text</th>\n",
              "    </tr>\n",
              "  </thead>\n",
              "  <tbody>\n",
              "    <tr>\n",
              "      <th>0</th>\n",
              "      <td>amateur edm hip hop producer tight budget exce...</td>\n",
              "    </tr>\n",
              "    <tr>\n",
              "      <th>1</th>\n",
              "      <td>pretty beefy strings even black nylons im used...</td>\n",
              "    </tr>\n",
              "    <tr>\n",
              "      <th>2</th>\n",
              "      <td>ive played every new improved string keep comi...</td>\n",
              "    </tr>\n",
              "    <tr>\n",
              "      <th>3</th>\n",
              "      <td>thought would give pedal try inexpensive usual...</td>\n",
              "    </tr>\n",
              "    <tr>\n",
              "      <th>4</th>\n",
              "      <td>wanting try one year good quality sound like s...</td>\n",
              "    </tr>\n",
              "  </tbody>\n",
              "</table>\n",
              "</div>\n",
              "      <button class=\"colab-df-convert\" onclick=\"convertToInteractive('df-a09094d2-8114-449b-be2c-ba4f008fc338')\"\n",
              "              title=\"Convert this dataframe to an interactive table.\"\n",
              "              style=\"display:none;\">\n",
              "        \n",
              "  <svg xmlns=\"http://www.w3.org/2000/svg\" height=\"24px\"viewBox=\"0 0 24 24\"\n",
              "       width=\"24px\">\n",
              "    <path d=\"M0 0h24v24H0V0z\" fill=\"none\"/>\n",
              "    <path d=\"M18.56 5.44l.94 2.06.94-2.06 2.06-.94-2.06-.94-.94-2.06-.94 2.06-2.06.94zm-11 1L8.5 8.5l.94-2.06 2.06-.94-2.06-.94L8.5 2.5l-.94 2.06-2.06.94zm10 10l.94 2.06.94-2.06 2.06-.94-2.06-.94-.94-2.06-.94 2.06-2.06.94z\"/><path d=\"M17.41 7.96l-1.37-1.37c-.4-.4-.92-.59-1.43-.59-.52 0-1.04.2-1.43.59L10.3 9.45l-7.72 7.72c-.78.78-.78 2.05 0 2.83L4 21.41c.39.39.9.59 1.41.59.51 0 1.02-.2 1.41-.59l7.78-7.78 2.81-2.81c.8-.78.8-2.07 0-2.86zM5.41 20L4 18.59l7.72-7.72 1.47 1.35L5.41 20z\"/>\n",
              "  </svg>\n",
              "      </button>\n",
              "      \n",
              "  <style>\n",
              "    .colab-df-container {\n",
              "      display:flex;\n",
              "      flex-wrap:wrap;\n",
              "      gap: 12px;\n",
              "    }\n",
              "\n",
              "    .colab-df-convert {\n",
              "      background-color: #E8F0FE;\n",
              "      border: none;\n",
              "      border-radius: 50%;\n",
              "      cursor: pointer;\n",
              "      display: none;\n",
              "      fill: #1967D2;\n",
              "      height: 32px;\n",
              "      padding: 0 0 0 0;\n",
              "      width: 32px;\n",
              "    }\n",
              "\n",
              "    .colab-df-convert:hover {\n",
              "      background-color: #E2EBFA;\n",
              "      box-shadow: 0px 1px 2px rgba(60, 64, 67, 0.3), 0px 1px 3px 1px rgba(60, 64, 67, 0.15);\n",
              "      fill: #174EA6;\n",
              "    }\n",
              "\n",
              "    [theme=dark] .colab-df-convert {\n",
              "      background-color: #3B4455;\n",
              "      fill: #D2E3FC;\n",
              "    }\n",
              "\n",
              "    [theme=dark] .colab-df-convert:hover {\n",
              "      background-color: #434B5C;\n",
              "      box-shadow: 0px 1px 3px 1px rgba(0, 0, 0, 0.15);\n",
              "      filter: drop-shadow(0px 1px 2px rgba(0, 0, 0, 0.3));\n",
              "      fill: #FFFFFF;\n",
              "    }\n",
              "  </style>\n",
              "\n",
              "      <script>\n",
              "        const buttonEl =\n",
              "          document.querySelector('#df-a09094d2-8114-449b-be2c-ba4f008fc338 button.colab-df-convert');\n",
              "        buttonEl.style.display =\n",
              "          google.colab.kernel.accessAllowed ? 'block' : 'none';\n",
              "\n",
              "        async function convertToInteractive(key) {\n",
              "          const element = document.querySelector('#df-a09094d2-8114-449b-be2c-ba4f008fc338');\n",
              "          const dataTable =\n",
              "            await google.colab.kernel.invokeFunction('convertToInteractive',\n",
              "                                                     [key], {});\n",
              "          if (!dataTable) return;\n",
              "\n",
              "          const docLinkHtml = 'Like what you see? Visit the ' +\n",
              "            '<a target=\"_blank\" href=https://colab.research.google.com/notebooks/data_table.ipynb>data table notebook</a>'\n",
              "            + ' to learn more about interactive tables.';\n",
              "          element.innerHTML = '';\n",
              "          dataTable['output_type'] = 'display_data';\n",
              "          await google.colab.output.renderOutput(dataTable, element);\n",
              "          const docLink = document.createElement('div');\n",
              "          docLink.innerHTML = docLinkHtml;\n",
              "          element.appendChild(docLink);\n",
              "        }\n",
              "      </script>\n",
              "    </div>\n",
              "  </div>\n",
              "  "
            ]
          },
          "metadata": {},
          "execution_count": 68
        }
      ],
      "source": [
        "test.head()"
      ]
    },
    {
      "cell_type": "code",
      "execution_count": 69,
      "id": "60d78e4f",
      "metadata": {
        "id": "60d78e4f"
      },
      "outputs": [],
      "source": [
        "test = cv.transform(test['text'])"
      ]
    },
    {
      "cell_type": "code",
      "execution_count": 70,
      "id": "ce83e0fa",
      "metadata": {
        "id": "ce83e0fa"
      },
      "outputs": [],
      "source": [
        "logreg_test_prediction = logreg.predict(test)"
      ]
    },
    {
      "cell_type": "code",
      "execution_count": 71,
      "id": "a0c1040c",
      "metadata": {
        "colab": {
          "base_uri": "https://localhost:8080/"
        },
        "id": "a0c1040c",
        "outputId": "80496bd0-7248-4282-8df3-e84e701d65b9"
      },
      "outputs": [
        {
          "output_type": "stream",
          "name": "stdout",
          "text": [
            "['positive' 'positive' 'positive' ... 'positive' 'positive' 'positive']\n"
          ]
        }
      ],
      "source": [
        "print(logreg_test_prediction)"
      ]
    },
    {
      "cell_type": "markdown",
      "id": "701a78ae",
      "metadata": {
        "id": "701a78ae"
      },
      "source": [
        "because it seems to mostly be positive we'll quickly check if the AI didn't underfit and decide to make everything positive."
      ]
    },
    {
      "cell_type": "code",
      "execution_count": 72,
      "id": "99972d2c",
      "metadata": {
        "colab": {
          "base_uri": "https://localhost:8080/"
        },
        "id": "99972d2c",
        "outputId": "95cbce1b-cfee-46fe-8225-e13e47528490"
      },
      "outputs": [
        {
          "output_type": "stream",
          "name": "stdout",
          "text": [
            "['negative' 'neutral' 'positive']\n",
            "[ 561  515 8924]\n"
          ]
        }
      ],
      "source": [
        "values, counts = np.unique(logreg_test_prediction, return_counts=True)\n",
        "print(values)\n",
        "print(counts)"
      ]
    },
    {
      "cell_type": "code",
      "execution_count": 73,
      "id": "e860240f",
      "metadata": {
        "id": "e860240f"
      },
      "outputs": [],
      "source": [
        "with open(\"amazonReviewsPredictions.txt\", \"w\") as txt_file:\n",
        "    for line in logreg_test_prediction:\n",
        "        txt_file.write(\"\".join(line) + \"\\n\")"
      ]
    },
    {
      "cell_type": "code",
      "execution_count": 74,
      "id": "088e0353",
      "metadata": {
        "colab": {
          "base_uri": "https://localhost:8080/",
          "height": 35
        },
        "id": "088e0353",
        "outputId": "4bab8915-19a5-400a-f16e-f48aabf52a3d"
      },
      "outputs": [
        {
          "output_type": "execute_result",
          "data": {
            "text/plain": [
              "'file looks ok'"
            ],
            "application/vnd.google.colaboratory.intrinsic+json": {
              "type": "string"
            }
          },
          "metadata": {},
          "execution_count": 74
        }
      ],
      "source": [
        "def test():\n",
        "  i = 0\n",
        "  answers = ['negative', 'neutral', 'positive']\n",
        "  with open('amazonReviewsPredictions.txt', 'r') as outfile:\n",
        "    lines = outfile.readlines()\n",
        "    for line in lines:\n",
        "        if line.strip() not in answers:\n",
        "          return(\"invalid entry line %i\" % (i))\n",
        "        i += 1\n",
        "    if i != 10000:\n",
        "      return (\"incorrect number of lines\")\n",
        "    else:\n",
        "      return (\"file looks ok\")\n",
        "test()"
      ]
    }
  ],
  "metadata": {
    "kernelspec": {
      "display_name": "Python 3 (ipykernel)",
      "language": "python",
      "name": "python3"
    },
    "language_info": {
      "codemirror_mode": {
        "name": "ipython",
        "version": 3
      },
      "file_extension": ".py",
      "mimetype": "text/x-python",
      "name": "python",
      "nbconvert_exporter": "python",
      "pygments_lexer": "ipython3",
      "version": "3.7.11"
    },
    "colab": {
      "provenance": [],
      "include_colab_link": true
    }
  },
  "nbformat": 4,
  "nbformat_minor": 5
}