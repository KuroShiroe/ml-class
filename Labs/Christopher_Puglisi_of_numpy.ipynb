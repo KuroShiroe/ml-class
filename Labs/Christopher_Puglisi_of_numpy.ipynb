{
  "cells": [
    {
      "cell_type": "markdown",
      "metadata": {
        "id": "view-in-github",
        "colab_type": "text"
      },
      "source": [
        "<a href=\"https://colab.research.google.com/github/KuroShiroe/ml-class/blob/main/Christopher_Puglisi_of_numpy.ipynb\" target=\"_parent\"><img src=\"https://colab.research.google.com/assets/colab-badge.svg\" alt=\"Open In Colab\"/></a>"
      ]
    },
    {
      "cell_type": "markdown",
      "metadata": {
        "id": "WqIp1iiDEzod"
      },
      "source": [
        "#` Task 1: Getting started with NumPy\n",
        "\n",
        "![](https://raw.githubusercontent.com/zacharski/datamining-guide/master/labs/pics/numpy.png)\n",
        "\n",
        "## Task 1: Fundamentals\n",
        "\n",
        "Let's spend a few minutes just learning some of the fundamentals of NumPy. (pronounced as num-pie **not num-pee**) \n",
        "\n",
        "### what is NumPy\n",
        "NumPy is a Python library that support large, multi-dimensional arrays and matrices. \n",
        "\n",
        "Let's look at an example. Suppose we start with a little table:\n",
        "\n",
        "| a  | b | c  |  d | e |\n",
        "| :---: | :---: | :---: | :---: | :---: |\n",
        "| 0 | 1 | 2 | 3 | 4 |\n",
        "|10| 11| 12 | 13 | 14|\n",
        "|20| 21 | 22 | 23 | 24 |\n",
        "|30 | 31 | 32 | 33 | 34 |\n",
        "|40 |41 | 42 | 43 | 44 |\n",
        "\n",
        "and we simply want to add 10 to each cell:\n",
        "\n",
        "| a  | b | c  |  d | e |\n",
        "| :---: | :---: | :---: | :---: | :---: |\n",
        "| 10 | 11 | 12 | 13 | 14 |\n",
        "|20| 21| 22 | 23 | 24|\n",
        "|30| 31 | 32 | 33 | 34 |\n",
        "|40 | 41 | 42 | 43 | 44 |\n",
        "|50 |51 | 52 | 53 | 54 |\n",
        "\n",
        "\n",
        "\n",
        "First, let's construct it in generic Python"
      ]
    },
    {
      "cell_type": "code",
      "execution_count": 2,
      "metadata": {
        "id": "4X_KY9CaEzoe",
        "colab": {
          "base_uri": "https://localhost:8080/"
        },
        "outputId": "302e0364-05e4-48a6-988e-3befa9562da6"
      },
      "outputs": [
        {
          "output_type": "execute_result",
          "data": {
            "text/plain": [
              "[[0, 1, 2, 3, 4],\n",
              " [5, 6, 7, 8, 9],\n",
              " [10, 11, 12, 13, 14],\n",
              " [15, 16, 17, 18, 19],\n",
              " [20, 21, 22, 23, 24]]"
            ]
          },
          "metadata": {},
          "execution_count": 2
        }
      ],
      "source": [
        "a5 = [[x + y * 5 for x in range(5)] for y in range(5)]\n",
        "a5\n",
        "\n"
      ]
    },
    {
      "cell_type": "markdown",
      "metadata": {
        "id": "94i2KiF_H1gp"
      },
      "source": [
        "And suppose we have the magic function `addToA5(i)` that will add *i* to each cell in the array:\n",
        "\n",
        "```\n",
        "addToA5(10)\n",
        "A5\n",
        "```\n",
        "returns\n",
        "\n",
        "```\n",
        "[[10, 11, 12, 13, 14],\n",
        " [15, 16, 17, 18, 19],\n",
        " [20, 21, 22, 23, 24],\n",
        " [25, 26, 27, 28, 29],\n",
        " [30, 31, 32, 33, 34]]\n",
        " ```\n"
      ]
    },
    {
      "cell_type": "markdown",
      "metadata": {
        "id": "ygCpl5ohF5g-"
      },
      "source": [
        "To make things interesting, instead of a a 5 x5 array, let's make it 1,000 x 1,000 -- so 1 million cells!"
      ]
    },
    {
      "cell_type": "code",
      "execution_count": 3,
      "metadata": {
        "id": "eO9-33gbF5uN"
      },
      "outputs": [],
      "source": [
        "a = [[x + y * 1000 for x in range(1000)] for y in range(1000)]\n"
      ]
    },
    {
      "cell_type": "markdown",
      "metadata": {
        "id": "d3puxQBNEzof"
      },
      "source": [
        "![](https://raw.githubusercontent.com/zacharski/datamining-guide/master/labs/pics/torchdivide.png)\n",
        "\n",
        "\n",
        "# <font color='#EE4C2C'>You Try ...</font> \n",
        "Ok, time to get coding\n",
        "\n",
        "## <font color='#EE4C2C'>1. addToArray(i)</font> \n",
        "Can you write  a function `addToArr(10)` that will add 10 to each cell in our  1000x1000 matrix."
      ]
    },
    {
      "cell_type": "code",
      "execution_count": 4,
      "metadata": {
        "id": "PY6RX8WrEzof"
      },
      "outputs": [],
      "source": [
        "def addToArray(i):\n",
        "  i=[[x + y * 1000 for x in range(1000)] for y in range(1000)]\n",
        "  i*10\n",
        "  # TO DO\n"
      ]
    },
    {
      "cell_type": "markdown",
      "metadata": {
        "id": "sOF-73z2Ezof"
      },
      "source": [
        "Let's take a look at how much time it takes to run that function:"
      ]
    },
    {
      "cell_type": "code",
      "execution_count": 5,
      "metadata": {
        "id": "1Z5AjlhyEzof",
        "colab": {
          "base_uri": "https://localhost:8080/"
        },
        "outputId": "6fa1b919-a5e5-4855-b257-de38fc6e1875"
      },
      "outputs": [
        {
          "output_type": "stream",
          "name": "stdout",
          "text": [
            "CPU times: user 123 ms, sys: 16 ms, total: 139 ms\n",
            "Wall time: 141 ms\n"
          ]
        }
      ],
      "source": [
        "%time addToArray(10)"
      ]
    },
    {
      "cell_type": "markdown",
      "metadata": {
        "id": "Cptrd_XzEzog"
      },
      "source": [
        "My results were:\n",
        "\n",
        "    CPU times: user 145 ms, sys: 0 ns, total: 145 ms\n",
        "    Wall time: 143 ms\n",
        "\n",
        "So about 1/7 of a second. \n",
        "\n",
        "![](https://raw.githubusercontent.com/zacharski/datamining-guide/master/labs/pics/numpySmall2.png)\n",
        "### Doing in using Numpy\n",
        "Now we will try the same using NumPy.\n",
        "\n",
        "\n",
        "We can construct the array using\n",
        "    \n",
        "    arr = np.arange(1000000).reshape((1000,1000))\n",
        "\n",
        "Not sure what that line does? NumPy has great online documentation. [Documentation for np.arange](https://numpy.org/doc/stable/reference/generated/numpy.arange.html) says it \"Return evenly spaced values within a given interval.\" Let's try it out:"
      ]
    },
    {
      "cell_type": "code",
      "execution_count": 6,
      "metadata": {
        "id": "l3zp6Y2dEzog",
        "colab": {
          "base_uri": "https://localhost:8080/"
        },
        "outputId": "5a1b61f1-47ad-4c14-daca-c7560bb13b56"
      },
      "outputs": [
        {
          "output_type": "execute_result",
          "data": {
            "text/plain": [
              "array([ 0,  1,  2,  3,  4,  5,  6,  7,  8,  9, 10, 11, 12, 13, 14, 15])"
            ]
          },
          "metadata": {},
          "execution_count": 6
        }
      ],
      "source": [
        "import numpy as np\n",
        "np.arange(16)"
      ]
    },
    {
      "cell_type": "markdown",
      "metadata": {
        "id": "By7ufsRqEzog"
      },
      "source": [
        "So `np.arange(10)` creates a matrix of 16 sequential integers. [The documentation for reshape](https://numpy.org/doc/1.18/reference/generated/numpy.reshape.html) says, as the name suggests, \"Gives a new shape to an array without changing its data.\"  Suppose we want to reshape our 1 dimensional matrix of 16 integers to a 4x4 one. we can do:"
      ]
    },
    {
      "cell_type": "code",
      "execution_count": 7,
      "metadata": {
        "id": "fd7FF6lrEzog",
        "colab": {
          "base_uri": "https://localhost:8080/"
        },
        "outputId": "6e83af81-2da2-433a-a93b-e1f001749a17"
      },
      "outputs": [
        {
          "output_type": "execute_result",
          "data": {
            "text/plain": [
              "array([[ 0,  1,  2,  3],\n",
              "       [ 4,  5,  6,  7],\n",
              "       [ 8,  9, 10, 11],\n",
              "       [12, 13, 14, 15]])"
            ]
          },
          "metadata": {},
          "execution_count": 7
        }
      ],
      "source": [
        "np.arange(16).reshape((4,4))"
      ]
    },
    {
      "cell_type": "markdown",
      "metadata": {
        "id": "m3AeTcM4Ezog"
      },
      "source": [
        "As you can see it is pretty easy to find documentation on Numpy.\n",
        "\n",
        "Back to our example of creating a 1000x1000 matrix, we now can time how long it takes to add 10 to each cell.\n",
        "\n",
        "    %time arr = arr + 10\n",
        "    \n",
        "Let's put this all together:"
      ]
    },
    {
      "cell_type": "code",
      "execution_count": 8,
      "metadata": {
        "id": "uezL6bdwEzog",
        "colab": {
          "base_uri": "https://localhost:8080/"
        },
        "outputId": "b37d1928-00b0-4f89-a44f-b963e3ddee63"
      },
      "outputs": [
        {
          "output_type": "stream",
          "name": "stdout",
          "text": [
            "CPU times: user 687 µs, sys: 2.95 ms, total: 3.64 ms\n",
            "Wall time: 3.67 ms\n"
          ]
        }
      ],
      "source": [
        "import numpy as np\n",
        "arr = np.arange(1000000).reshape((1000,1000))\n",
        "%time arr = arr + 10"
      ]
    },
    {
      "cell_type": "markdown",
      "metadata": {
        "id": "BDP1xbHnEzog"
      },
      "source": [
        "My results were\n",
        "\n",
        "    CPU times: user 1.26 ms, sys: 408 µs, total: 1.67 ms\n",
        "    Wall time: 1.68 ms\n",
        "\n",
        "So, depending on your computer, somewhere around 25 to 100 times faster. **That is phenomenally faster!**. \n"
      ]
    },
    {
      "cell_type": "markdown",
      "metadata": {
        "id": "Iz4-PVEFEzoh"
      },
      "source": [
        "### built in functions\n",
        "In addition to being faster, NumPy has a wide range of built in functions. So, for example, instead of you writing code to calculate the mean or sum or standard deviation of a multidimensional array you can just use numpy:"
      ]
    },
    {
      "cell_type": "code",
      "execution_count": 9,
      "metadata": {
        "id": "rS7U3aPhEzoh",
        "colab": {
          "base_uri": "https://localhost:8080/"
        },
        "outputId": "a77b531d-f8df-46be-bcbb-f5da8d3fa462"
      },
      "outputs": [
        {
          "output_type": "execute_result",
          "data": {
            "text/plain": [
              "500009.5"
            ]
          },
          "metadata": {},
          "execution_count": 9
        }
      ],
      "source": [
        "arr.mean()"
      ]
    },
    {
      "cell_type": "code",
      "execution_count": 10,
      "metadata": {
        "id": "X7mFmJ4REzoh",
        "colab": {
          "base_uri": "https://localhost:8080/"
        },
        "outputId": "c0ecd330-82ca-451c-c2d4-1f21dee2e6e4"
      },
      "outputs": [
        {
          "output_type": "execute_result",
          "data": {
            "text/plain": [
              "500009500000"
            ]
          },
          "metadata": {},
          "execution_count": 10
        }
      ],
      "source": [
        "arr.sum()"
      ]
    },
    {
      "cell_type": "code",
      "execution_count": 11,
      "metadata": {
        "id": "BkqaY-9KEzoh",
        "colab": {
          "base_uri": "https://localhost:8080/"
        },
        "outputId": "97872d51-65bb-4188-e999-3dd8b99a008f"
      },
      "outputs": [
        {
          "output_type": "execute_result",
          "data": {
            "text/plain": [
              "288675.1345946685"
            ]
          },
          "metadata": {},
          "execution_count": 11
        }
      ],
      "source": [
        " arr.std()"
      ]
    },
    {
      "cell_type": "markdown",
      "metadata": {
        "id": "57UPklwXEzoh"
      },
      "source": [
        "So not only is it faster, but NumPy minimizes the code you have to write. A win, win.\n",
        "\n",
        "Let's continue with some basics."
      ]
    },
    {
      "cell_type": "markdown",
      "metadata": {
        "id": "umsiIMGdEzoh"
      },
      "source": [
        "## NumPy examined \n",
        "So NumPy is a library containing a super-fast n-dimensional array object and a load of functions that can operate on those arrays. To use NumPy, we must first load the library into our code and we do that with the statement:\n"
      ]
    },
    {
      "cell_type": "code",
      "execution_count": 12,
      "metadata": {
        "id": "NZ0PuMReEzoh"
      },
      "outputs": [],
      "source": [
        " import numpy as np"
      ]
    },
    {
      "cell_type": "markdown",
      "metadata": {
        "id": "O1XeAsuNEzoh"
      },
      "source": [
        "Perhaps most of you are saying \"fine, fine, I know this already\", but let me catch others up to speed. This is just one of several ways we can load a library into Python. We could just say:"
      ]
    },
    {
      "cell_type": "code",
      "execution_count": 13,
      "metadata": {
        "id": "6WZ0b-ziEzoi"
      },
      "outputs": [],
      "source": [
        " import numpy"
      ]
    },
    {
      "cell_type": "markdown",
      "metadata": {
        "id": "a7JfDLjeEzoi"
      },
      "source": [
        "and everytime we need to use one of the functions built into NumPy we would need to preface that function with `numpy` . So for example, we could create an array with\n"
      ]
    },
    {
      "cell_type": "code",
      "execution_count": 14,
      "metadata": {
        "id": "oErl0l27Ezoi"
      },
      "outputs": [],
      "source": [
        "arr = numpy.array([1, 2, 3, 4, 5])"
      ]
    },
    {
      "cell_type": "markdown",
      "metadata": {
        "id": "PXiS0DQoEzoi"
      },
      "source": [
        "If we got tired of writing `numpy` in front of every function, instead of typing"
      ]
    },
    {
      "cell_type": "code",
      "execution_count": 15,
      "metadata": {
        "id": "YQqpT6M7Ezoi"
      },
      "outputs": [],
      "source": [
        "import numpy"
      ]
    },
    {
      "cell_type": "markdown",
      "metadata": {
        "id": "SyjCk5JoEzoi"
      },
      "source": [
        "we could write:"
      ]
    },
    {
      "cell_type": "code",
      "execution_count": 16,
      "metadata": {
        "id": "Y6C2MDGIEzoi"
      },
      "outputs": [],
      "source": [
        "from numpy import *"
      ]
    },
    {
      "cell_type": "markdown",
      "metadata": {
        "id": "s56z0_mQEzoi"
      },
      "source": [
        "(where that * means 'everything' and the whole expression means import everything from the NumPy library).  Now we can use any NumPy function without putting `numpy` in front of it:"
      ]
    },
    {
      "cell_type": "code",
      "execution_count": 17,
      "metadata": {
        "id": "frR4dxZkEzoi"
      },
      "outputs": [],
      "source": [
        "arr = array([1, 2, 3, 4, 5])"
      ]
    },
    {
      "cell_type": "markdown",
      "metadata": {
        "id": "9tSQnBugEzoi"
      },
      "source": [
        "This may at first seem like a good idea, but it is considered bad form by Python developers. \n",
        "\n",
        "The solution is to use what we initially introduced:"
      ]
    },
    {
      "cell_type": "code",
      "execution_count": 18,
      "metadata": {
        "id": "GYqMBrtDEzoi"
      },
      "outputs": [],
      "source": [
        " import numpy as np"
      ]
    },
    {
      "cell_type": "markdown",
      "metadata": {
        "id": "LksNM-0cEzoi"
      },
      "source": [
        "this makes `np` an alias for `numpy`. so now we would put *np* in front of numpy functions."
      ]
    },
    {
      "cell_type": "code",
      "execution_count": 19,
      "metadata": {
        "id": "kBmnY2ThEzoi"
      },
      "outputs": [],
      "source": [
        " arr = np.array([1, 2, 3, 4, 5])"
      ]
    },
    {
      "cell_type": "markdown",
      "metadata": {
        "id": "MckhLtRZEzoi"
      },
      "source": [
        "Of course we could use anything as an alias for `numpy`:"
      ]
    },
    {
      "cell_type": "code",
      "execution_count": 20,
      "metadata": {
        "id": "O745lABLEzoi"
      },
      "outputs": [],
      "source": [
        "import numpy as myCoolSneakers\n",
        "arr = myCoolSneakers.array([1, 2, 3, 4, 5])\n"
      ]
    },
    {
      "cell_type": "markdown",
      "metadata": {
        "id": "q59LN5V_Ezoi"
      },
      "source": [
        "But it is convention among data scientists, machine learning experts, and the cool kids to use `np`.  One big benefit of this convention is that it makes the code you write more understandable to others and vice versa (I don't need to be scouring your code to find out what `myCoolSneakers.array` does)\n",
        "\n",
        "## creating arrays\n",
        "\n",
        "An Array in NumPy is called an `ndarray` for n-dimensional array.  As we will see, they share some similarities with Python lists. We have already seen how to create one:"
      ]
    },
    {
      "cell_type": "code",
      "execution_count": 21,
      "metadata": {
        "id": "Ky7GJY-sEzoi"
      },
      "outputs": [],
      "source": [
        "arr = np.array([1, 2, 3, 4, 5])"
      ]
    },
    {
      "cell_type": "markdown",
      "metadata": {
        "id": "Ig3__G2fEzoi"
      },
      "source": [
        "and to display what `arr` equals"
      ]
    },
    {
      "cell_type": "code",
      "execution_count": 22,
      "metadata": {
        "id": "3DuNKiC7Ezoi",
        "colab": {
          "base_uri": "https://localhost:8080/"
        },
        "outputId": "cf64b807-5839-4153-ce79-256705a16431"
      },
      "outputs": [
        {
          "output_type": "execute_result",
          "data": {
            "text/plain": [
              "array([1, 2, 3, 4, 5])"
            ]
          },
          "metadata": {},
          "execution_count": 22
        }
      ],
      "source": [
        "arr"
      ]
    },
    {
      "cell_type": "markdown",
      "metadata": {
        "id": "PDKxlPxLEzoi"
      },
      "source": [
        "This is a one dimensional array. The position of an element in the array is called the index. The first element of the array is at index 0, the next at index 1 and so on. We can get the item at a particular index by using the syntax:"
      ]
    },
    {
      "cell_type": "code",
      "execution_count": 23,
      "metadata": {
        "id": "HyK5547PEzoi",
        "colab": {
          "base_uri": "https://localhost:8080/"
        },
        "outputId": "c4d018a9-63ff-47a1-f06b-1006ee940574"
      },
      "outputs": [
        {
          "output_type": "execute_result",
          "data": {
            "text/plain": [
              "1"
            ]
          },
          "metadata": {},
          "execution_count": 23
        }
      ],
      "source": [
        " arr[0]"
      ]
    },
    {
      "cell_type": "code",
      "execution_count": 24,
      "metadata": {
        "id": "y4CI-sRoEzoj",
        "colab": {
          "base_uri": "https://localhost:8080/"
        },
        "outputId": "1185452c-5cbf-4da3-dc61-6757e3554805"
      },
      "outputs": [
        {
          "output_type": "execute_result",
          "data": {
            "text/plain": [
              "4"
            ]
          },
          "metadata": {},
          "execution_count": 24
        }
      ],
      "source": [
        "arr[3]"
      ]
    },
    {
      "cell_type": "markdown",
      "metadata": {
        "id": "z1yJ1ktaEzoj"
      },
      "source": [
        "We can create a 2 dimensional array that looks like\n",
        "\n",
        "      10  20  30\n",
        "      40  50  60\n",
        " \n",
        "by:\n"
      ]
    },
    {
      "cell_type": "code",
      "execution_count": 25,
      "metadata": {
        "id": "u3tTM1_IEzoj"
      },
      "outputs": [],
      "source": [
        " arr = np.array([[10, 20, 30], [40, 50, 60]])"
      ]
    },
    {
      "cell_type": "markdown",
      "metadata": {
        "id": "uN9-b83pEzoj"
      },
      "source": [
        "and we can show the contents of that array just be using the name of the array, `arr`\n"
      ]
    },
    {
      "cell_type": "code",
      "execution_count": 26,
      "metadata": {
        "id": "1LmJkAbQEzoj",
        "colab": {
          "base_uri": "https://localhost:8080/"
        },
        "outputId": "7b5075df-5a50-44b7-aa4c-5729acc3bd00"
      },
      "outputs": [
        {
          "output_type": "execute_result",
          "data": {
            "text/plain": [
              "array([[10, 20, 30],\n",
              "       [40, 50, 60]])"
            ]
          },
          "metadata": {},
          "execution_count": 26
        }
      ],
      "source": [
        "arr"
      ]
    },
    {
      "cell_type": "markdown",
      "metadata": {
        "id": "gjxt_bTCEzoj"
      },
      "source": [
        "We don't need to name arrays `arr`, we can name them anything we want. "
      ]
    },
    {
      "cell_type": "code",
      "execution_count": 27,
      "metadata": {
        "id": "Wcr7ViBVEzoj"
      },
      "outputs": [],
      "source": [
        "ratings = np.array([[1, 2, 3], [4, 5, 6], [7, 8, 9]])"
      ]
    },
    {
      "cell_type": "code",
      "execution_count": 28,
      "metadata": {
        "id": "OJIxRvLREzoj",
        "colab": {
          "base_uri": "https://localhost:8080/"
        },
        "outputId": "5971d181-6ec7-4df1-8721-e1cccc469b80"
      },
      "outputs": [
        {
          "output_type": "execute_result",
          "data": {
            "text/plain": [
              "array([[1, 2, 3],\n",
              "       [4, 5, 6],\n",
              "       [7, 8, 9]])"
            ]
          },
          "metadata": {},
          "execution_count": 28
        }
      ],
      "source": [
        "ratings"
      ]
    },
    {
      "cell_type": "markdown",
      "metadata": {
        "id": "sQk3PTjNEzoj"
      },
      "source": [
        "So far, we've been creating numpy arrays by using Python lists. We can make that more explicit by first creating the Python list and then using it to create the ndarray:"
      ]
    },
    {
      "cell_type": "code",
      "execution_count": 29,
      "metadata": {
        "id": "f30f_r3mEzoj",
        "colab": {
          "base_uri": "https://localhost:8080/"
        },
        "outputId": "fb1777e0-a5ea-4aee-b13a-37f2e4a7d4b7"
      },
      "outputs": [
        {
          "output_type": "execute_result",
          "data": {
            "text/plain": [
              "array([[ 1,  2,  3,  4,  5],\n",
              "       [ 6,  7,  8,  9, 10]])"
            ]
          },
          "metadata": {},
          "execution_count": 29
        }
      ],
      "source": [
        "pythonArray = [[1, 2, 3, 4, 5], [6, 7, 8, 9, 10]]\n",
        "sweet = np.array(pythonArray)\n",
        "sweet"
      ]
    },
    {
      "cell_type": "markdown",
      "metadata": {
        "id": "lTI4O04yEzoj"
      },
      "source": [
        "We can also create an array of all zeros or all ones directly:"
      ]
    },
    {
      "cell_type": "code",
      "execution_count": 30,
      "metadata": {
        "id": "DS9MGlFsEzoj",
        "colab": {
          "base_uri": "https://localhost:8080/"
        },
        "outputId": "b1b1c7cf-c245-47dc-8c96-b32559b6867d"
      },
      "outputs": [
        {
          "output_type": "execute_result",
          "data": {
            "text/plain": [
              "array([0., 0., 0., 0., 0., 0., 0., 0., 0., 0.])"
            ]
          },
          "metadata": {},
          "execution_count": 30
        }
      ],
      "source": [
        "np.zeros(10)"
      ]
    },
    {
      "cell_type": "code",
      "execution_count": 31,
      "metadata": {
        "id": "y2rHFjAnEzoj",
        "colab": {
          "base_uri": "https://localhost:8080/"
        },
        "outputId": "55243bf6-07a7-4f43-a597-e0ff5c854839"
      },
      "outputs": [
        {
          "output_type": "execute_result",
          "data": {
            "text/plain": [
              "array([[1., 1.],\n",
              "       [1., 1.],\n",
              "       [1., 1.],\n",
              "       [1., 1.],\n",
              "       [1., 1.]])"
            ]
          },
          "metadata": {},
          "execution_count": 31
        }
      ],
      "source": [
        "np.ones((5, 2))"
      ]
    },
    {
      "cell_type": "markdown",
      "metadata": {
        "id": "6m6aHGieEzoj"
      },
      "source": [
        "### indexing\n",
        "Indexing elements in ndarrays works pretty much the same as it does in Python. We have already seen one example, here is another example with a one dimensional array:\n"
      ]
    },
    {
      "cell_type": "code",
      "execution_count": 32,
      "metadata": {
        "id": "fS2zDeIkEzoj",
        "colab": {
          "base_uri": "https://localhost:8080/"
        },
        "outputId": "bfe15db9-08e5-4aad-fcfd-263ad72d429d"
      },
      "outputs": [
        {
          "output_type": "execute_result",
          "data": {
            "text/plain": [
              "48"
            ]
          },
          "metadata": {},
          "execution_count": 32
        }
      ],
      "source": [
        "temperatures = np.array([48, 44, 37, 35, 32, 29, 33, 36, 42])\n",
        "temperatures[0]"
      ]
    },
    {
      "cell_type": "code",
      "execution_count": 33,
      "metadata": {
        "id": "diBYHKV5Ezoj",
        "colab": {
          "base_uri": "https://localhost:8080/"
        },
        "outputId": "d691fecb-86e7-4b83-8d70-0cc23ad4ff9e"
      },
      "outputs": [
        {
          "output_type": "execute_result",
          "data": {
            "text/plain": [
              "35"
            ]
          },
          "metadata": {},
          "execution_count": 33
        }
      ],
      "source": [
        "temperatures[3]"
      ]
    },
    {
      "cell_type": "markdown",
      "metadata": {
        "id": "SKG_mRmjEzoj"
      },
      "source": [
        "and a two dimensional one:"
      ]
    },
    {
      "cell_type": "code",
      "execution_count": 34,
      "metadata": {
        "id": "igsNn0feEzoj",
        "colab": {
          "base_uri": "https://localhost:8080/"
        },
        "outputId": "ae1ce271-138c-402f-8136-f2d958833980"
      },
      "outputs": [
        {
          "output_type": "execute_result",
          "data": {
            "text/plain": [
              "20"
            ]
          },
          "metadata": {},
          "execution_count": 34
        }
      ],
      "source": [
        "sample = np.array([[10, 20, 30], [40, 50, 60]])\n",
        "sample[0][1]"
      ]
    },
    {
      "cell_type": "markdown",
      "metadata": {
        "id": "msSSxHQVEzoj"
      },
      "source": [
        "For numpy ndarrays we can also use a comma to separate the indices of multi-dimensional arrays:"
      ]
    },
    {
      "cell_type": "code",
      "execution_count": 35,
      "metadata": {
        "id": "SOkMiqMtEzoj",
        "colab": {
          "base_uri": "https://localhost:8080/"
        },
        "outputId": "4208e133-d806-4655-c2b3-174a5cdc24a9"
      },
      "outputs": [
        {
          "output_type": "execute_result",
          "data": {
            "text/plain": [
              "60"
            ]
          },
          "metadata": {},
          "execution_count": 35
        }
      ],
      "source": [
        "sample[1,2]"
      ]
    },
    {
      "cell_type": "markdown",
      "metadata": {
        "id": "zUmH0fQYEzok"
      },
      "source": [
        "And, like Python you can also get a slice of an array. First, here is the basic Python example:"
      ]
    },
    {
      "cell_type": "code",
      "execution_count": 36,
      "metadata": {
        "id": "GxgSEjSREzok",
        "colab": {
          "base_uri": "https://localhost:8080/"
        },
        "outputId": "ca2b3492-39e7-4ddb-dc0a-b6eed32f1c5c"
      },
      "outputs": [
        {
          "output_type": "execute_result",
          "data": {
            "text/plain": [
              "[20, 30, 40]"
            ]
          },
          "metadata": {},
          "execution_count": 36
        }
      ],
      "source": [
        "a = [10, 20, 30, 40, 50, 60]\n",
        "b = a[1:4]\n",
        "b"
      ]
    },
    {
      "cell_type": "markdown",
      "metadata": {
        "id": "_qsZG_1kEzok"
      },
      "source": [
        "and the similar NumPy example:"
      ]
    },
    {
      "cell_type": "code",
      "execution_count": 37,
      "metadata": {
        "id": "A7731YZhEzok",
        "colab": {
          "base_uri": "https://localhost:8080/"
        },
        "outputId": "4fa82d69-49d4-4f9a-9244-78055df0d0cd"
      },
      "outputs": [
        {
          "output_type": "execute_result",
          "data": {
            "text/plain": [
              "array([20, 30, 40])"
            ]
          },
          "metadata": {},
          "execution_count": 37
        }
      ],
      "source": [
        "aarr = np.array(a)\n",
        "barr = aarr[1:4]\n",
        "barr"
      ]
    },
    {
      "cell_type": "markdown",
      "metadata": {
        "id": "9_6DDzmNEzok"
      },
      "source": [
        "### Something  wacky to remember\n",
        "But there is a difference between Python arrays and numpy ndarrays. If I alter the array `b` in Python, the orginal `a` array is not altered:"
      ]
    },
    {
      "cell_type": "code",
      "execution_count": 38,
      "metadata": {
        "id": "GxvDBtB-Ezok"
      },
      "outputs": [],
      "source": [
        "b[1] = b[1] + 5"
      ]
    },
    {
      "cell_type": "code",
      "execution_count": 39,
      "metadata": {
        "id": "r-tDVluWEzok",
        "colab": {
          "base_uri": "https://localhost:8080/"
        },
        "outputId": "92d942c6-3edd-4122-e81b-b573e9567360"
      },
      "outputs": [
        {
          "output_type": "execute_result",
          "data": {
            "text/plain": [
              "[20, 35, 40]"
            ]
          },
          "metadata": {},
          "execution_count": 39
        }
      ],
      "source": [
        "b"
      ]
    },
    {
      "cell_type": "code",
      "execution_count": 40,
      "metadata": {
        "id": "J9xeTYc-Ezok",
        "colab": {
          "base_uri": "https://localhost:8080/"
        },
        "outputId": "4f65bd83-4ea4-4f23-8a98-ad604006e162"
      },
      "outputs": [
        {
          "output_type": "execute_result",
          "data": {
            "text/plain": [
              "[10, 20, 30, 40, 50, 60]"
            ]
          },
          "metadata": {},
          "execution_count": 40
        }
      ],
      "source": [
        "a"
      ]
    },
    {
      "cell_type": "markdown",
      "metadata": {
        "id": "2Jz7VyKUEzok"
      },
      "source": [
        "but if we do the same in NumPy:"
      ]
    },
    {
      "cell_type": "code",
      "execution_count": 41,
      "metadata": {
        "id": "Hjw08awgEzok"
      },
      "outputs": [],
      "source": [
        "barr[1] = barr[1] + 5"
      ]
    },
    {
      "cell_type": "code",
      "execution_count": 42,
      "metadata": {
        "id": "1QONIcb1Ezok",
        "colab": {
          "base_uri": "https://localhost:8080/"
        },
        "outputId": "b8f77c1b-718f-488d-e01d-89af31e3fb09"
      },
      "outputs": [
        {
          "output_type": "execute_result",
          "data": {
            "text/plain": [
              "array([20, 35, 40])"
            ]
          },
          "metadata": {},
          "execution_count": 42
        }
      ],
      "source": [
        "barr"
      ]
    },
    {
      "cell_type": "code",
      "execution_count": 43,
      "metadata": {
        "id": "fo7NRbRjEzok",
        "colab": {
          "base_uri": "https://localhost:8080/"
        },
        "outputId": "a8c9c4d6-95ee-4e86-ce7d-3d06b7cf380b"
      },
      "outputs": [
        {
          "output_type": "execute_result",
          "data": {
            "text/plain": [
              "array([10, 20, 35, 40, 50, 60])"
            ]
          },
          "metadata": {},
          "execution_count": 43
        }
      ],
      "source": [
        "aarr"
      ]
    },
    {
      "cell_type": "markdown",
      "metadata": {
        "id": "VkhfvKxaEzok"
      },
      "source": [
        "we see that the original array is altered since we modified the slice. This may seem wacky to you, or maybe it doesn't. In any case, it is something you will get used to. For now, just be aware of this. It took me awhile to stop making mistakes because of this.\n",
        "\n",
        "## Functions on arrays\n",
        "\n",
        "NumPy has a wide range of array functons. Here is just a sample.\n",
        "\n",
        "### Unary functions\n",
        "\n",
        "#### absolute value"
      ]
    },
    {
      "cell_type": "code",
      "execution_count": 44,
      "metadata": {
        "id": "u87dTKk2Ezok",
        "colab": {
          "base_uri": "https://localhost:8080/"
        },
        "outputId": "e2ab24f9-3629-4fe8-ad1d-cf4c137091ee"
      },
      "outputs": [
        {
          "output_type": "execute_result",
          "data": {
            "text/plain": [
              "array([ 2, 12, 25,  0])"
            ]
          },
          "metadata": {},
          "execution_count": 44
        }
      ],
      "source": [
        "arr = np.array([-2, 12, -25, 0])\n",
        "arr2 = np.abs(arr)\n",
        "arr2"
      ]
    },
    {
      "cell_type": "code",
      "execution_count": 45,
      "metadata": {
        "id": "feUIEQl6Ezok",
        "colab": {
          "base_uri": "https://localhost:8080/"
        },
        "outputId": "80d549b4-e56d-4991-8964-fa065db10b7c"
      },
      "outputs": [
        {
          "output_type": "execute_result",
          "data": {
            "text/plain": [
              "array([[ 2, 12],\n",
              "       [25,  0]])"
            ]
          },
          "metadata": {},
          "execution_count": 45
        }
      ],
      "source": [
        "arr = np.array([[-2, 12], [-25, 0]])\n",
        "arr2 = np.abs(arr)\n",
        "arr2               "
      ]
    },
    {
      "cell_type": "markdown",
      "metadata": {
        "id": "WpT_C-egEzok"
      },
      "source": [
        "#### square"
      ]
    },
    {
      "cell_type": "code",
      "execution_count": 46,
      "metadata": {
        "id": "Iixy0JTjEzok",
        "colab": {
          "base_uri": "https://localhost:8080/"
        },
        "outputId": "94b58a86-444a-4d3e-b690-f6db2be05636"
      },
      "outputs": [
        {
          "output_type": "execute_result",
          "data": {
            "text/plain": [
              "array([ 1,  4,  9, 16])"
            ]
          },
          "metadata": {},
          "execution_count": 46
        }
      ],
      "source": [
        "arr = np.array([-1, 2, -3, 4])\n",
        "arr2 = np.square(arr)\n",
        "arr2"
      ]
    },
    {
      "cell_type": "markdown",
      "metadata": {
        "id": "umNpXgcbEzok"
      },
      "source": [
        "#### squareroot"
      ]
    },
    {
      "cell_type": "code",
      "execution_count": 47,
      "metadata": {
        "id": "qieZmImEEzok",
        "colab": {
          "base_uri": "https://localhost:8080/"
        },
        "outputId": "fddd1e77-85f2-49a7-9a27-9480c9793c5b"
      },
      "outputs": [
        {
          "output_type": "execute_result",
          "data": {
            "text/plain": [
              "array([[2., 3.],\n",
              "       [4., 5.]])"
            ]
          },
          "metadata": {},
          "execution_count": 47
        }
      ],
      "source": [
        "arr = np.array([[4, 9], [16, 25]])\n",
        "arr2 = np.sqrt(arr)\n",
        "arr2"
      ]
    },
    {
      "cell_type": "markdown",
      "metadata": {
        "id": "RKuo98Z-Ezok"
      },
      "source": [
        "## Binary functions\n",
        "\n",
        "#### add /subtract / multiply / divide\n"
      ]
    },
    {
      "cell_type": "code",
      "execution_count": 48,
      "metadata": {
        "id": "mXiQuUk-Ezok",
        "colab": {
          "base_uri": "https://localhost:8080/"
        },
        "outputId": "0e4996eb-6ce8-4538-ea5b-d3be36a97d88"
      },
      "outputs": [
        {
          "output_type": "execute_result",
          "data": {
            "text/plain": [
              "array([[11, 22],\n",
              "       [33, 44]])"
            ]
          },
          "metadata": {},
          "execution_count": 48
        }
      ],
      "source": [
        "arr1 = np.array([[10, 20], [30, 40]])\n",
        "arr2 = np.array([[1, 2], [3, 4]])\n",
        "np.add(arr1, arr2)"
      ]
    },
    {
      "cell_type": "code",
      "execution_count": 49,
      "metadata": {
        "id": "MmoSp7LrEzol",
        "colab": {
          "base_uri": "https://localhost:8080/"
        },
        "outputId": "c79091aa-21d7-4345-a5fb-84bc12e9ba52"
      },
      "outputs": [
        {
          "output_type": "execute_result",
          "data": {
            "text/plain": [
              "array([[ 9, 18],\n",
              "       [27, 36]])"
            ]
          },
          "metadata": {},
          "execution_count": 49
        }
      ],
      "source": [
        "np.subtract(arr1, arr2)"
      ]
    },
    {
      "cell_type": "code",
      "execution_count": 50,
      "metadata": {
        "id": "5KO88xF4Ezol",
        "colab": {
          "base_uri": "https://localhost:8080/"
        },
        "outputId": "ce37506a-c766-45df-9a94-425c4c5f98f2"
      },
      "outputs": [
        {
          "output_type": "execute_result",
          "data": {
            "text/plain": [
              "array([[ 10,  40],\n",
              "       [ 90, 160]])"
            ]
          },
          "metadata": {},
          "execution_count": 50
        }
      ],
      "source": [
        "np.multiply(arr1, arr2)"
      ]
    },
    {
      "cell_type": "code",
      "execution_count": 51,
      "metadata": {
        "id": "tmUeanf9Ezol",
        "colab": {
          "base_uri": "https://localhost:8080/"
        },
        "outputId": "4c312421-e6c4-4975-e4c6-a8f11ec5dc91"
      },
      "outputs": [
        {
          "output_type": "execute_result",
          "data": {
            "text/plain": [
              "array([[10., 10.],\n",
              "       [10., 10.]])"
            ]
          },
          "metadata": {},
          "execution_count": 51
        }
      ],
      "source": [
        "np.divide(arr1, arr2)"
      ]
    },
    {
      "cell_type": "markdown",
      "metadata": {
        "id": "lWU0zriTEzol"
      },
      "source": [
        "#### maximum / minimum\n"
      ]
    },
    {
      "cell_type": "code",
      "execution_count": 52,
      "metadata": {
        "id": "93YvULTsEzol",
        "colab": {
          "base_uri": "https://localhost:8080/"
        },
        "outputId": "901e5112-1026-439d-fde2-6e8764c9309a"
      },
      "outputs": [
        {
          "output_type": "execute_result",
          "data": {
            "text/plain": [
              "array([[10, 20],\n",
              "       [30, 40]])"
            ]
          },
          "metadata": {},
          "execution_count": 52
        }
      ],
      "source": [
        "arr1 = np.array([[10, 2], [3, 40]])\n",
        "arr2 = np.array([[1, 20], [30, 4]])\n",
        "np.maximum(arr1, arr2)"
      ]
    },
    {
      "cell_type": "markdown",
      "metadata": {
        "id": "1oKpR6kBEzol"
      },
      "source": [
        "#### these are just examples. There are more unary and binary functions"
      ]
    },
    {
      "cell_type": "markdown",
      "metadata": {
        "id": "CyM9uQLPEzol"
      },
      "source": [
        "## NumPy Uber\n",
        "Let us say we have Uber drivers at various intersections around Austin. We will represent that as a set of x,y coordinates.\n",
        "\n",
        " | Driver |xPos | yPos |\n",
        " | :---: | :---: | :---: |\n",
        " | Ann | 4 | 5 |\n",
        " | Clara | 6 | 6 |\n",
        " | Dora | 3 | 1 |\n",
        " | Erica | 9 | 5 |\n",
        " \n",
        " \n",
        " Now I would like to find the closest driver to a customer who is at 6, 3.\n",
        "\n",
        "\n",
        " ![](https://raw.githubusercontent.com/zacharski/datamining-guide/master/labs/pics/distance.png)\n",
        " And to further define *closest* I am going to use what is called **Manhattan Distance**. Roughly put, Manhattan distance is distance if you followed streets. Ann, for example, is two blocks West of our customer and two blocks north. So the Manhattan distance from Ann to our customer is `2+2` or `4`. \n",
        " \n",
        " First, to make things easy (and because the data in a NumPy array must be of the same type), I will represent the x and y positions in one NumPy array and the driver names in another:"
      ]
    },
    {
      "cell_type": "code",
      "execution_count": 53,
      "metadata": {
        "id": "E80-y7SeEzol",
        "colab": {
          "base_uri": "https://localhost:8080/"
        },
        "outputId": "84839de2-254f-4ce7-ad99-224b7f0fe8bc"
      },
      "outputs": [
        {
          "output_type": "execute_result",
          "data": {
            "text/plain": [
              "array([[4, 5],\n",
              "       [6, 6],\n",
              "       [3, 1],\n",
              "       [9, 5]])"
            ]
          },
          "metadata": {},
          "execution_count": 53
        }
      ],
      "source": [
        "locations = np.array([[4, 5], [6, 6], [3, 1], [9,5]])\n",
        "locations"
      ]
    },
    {
      "cell_type": "code",
      "execution_count": 54,
      "metadata": {
        "id": "4lAUNQaIEzol"
      },
      "outputs": [],
      "source": [
        "drivers = np.array([\"Ann\", \"Clara\", \"Dora\", \"Erica\"])"
      ]
    },
    {
      "cell_type": "markdown",
      "metadata": {
        "id": "JwaCW-YWEzol"
      },
      "source": [
        "Our customer is at"
      ]
    },
    {
      "cell_type": "code",
      "execution_count": 55,
      "metadata": {
        "id": "cWVbH5wGEzol"
      },
      "outputs": [],
      "source": [
        "cust = np.array([6, 3])"
      ]
    },
    {
      "cell_type": "markdown",
      "metadata": {
        "id": "G5eekKfBEzol"
      },
      "source": [
        "now we are going to figure out the distance between each of our drivers and the customer"
      ]
    },
    {
      "cell_type": "code",
      "execution_count": 56,
      "metadata": {
        "id": "GOuEAXxuEzol",
        "colab": {
          "base_uri": "https://localhost:8080/"
        },
        "outputId": "0b6edd06-f250-4470-cd74-90e0d5035cec"
      },
      "outputs": [
        {
          "output_type": "execute_result",
          "data": {
            "text/plain": [
              "array([[-2,  2],\n",
              "       [ 0,  3],\n",
              "       [-3, -2],\n",
              "       [ 3,  2]])"
            ]
          },
          "metadata": {},
          "execution_count": 56
        }
      ],
      "source": [
        "xydiff = locations - cust\n",
        "xydiff"
      ]
    },
    {
      "cell_type": "markdown",
      "metadata": {
        "id": "XJnva8QzEzol"
      },
      "source": [
        "NOTE: displaying the results with `xydiff` isn't a necessary step. I just like seeing intermediate results.\n",
        "\n",
        "Ok. now I am goint to sum the absolute values:"
      ]
    },
    {
      "cell_type": "code",
      "execution_count": 57,
      "metadata": {
        "id": "NyzqcpU_Ezol",
        "colab": {
          "base_uri": "https://localhost:8080/"
        },
        "outputId": "00e538ad-4399-4541-b79f-a8fa6f9adffe"
      },
      "outputs": [
        {
          "output_type": "execute_result",
          "data": {
            "text/plain": [
              "array([4, 3, 5, 5])"
            ]
          },
          "metadata": {},
          "execution_count": 57
        }
      ],
      "source": [
        "distances =np.abs(xydiff).sum(axis = 1)\n",
        "distances"
      ]
    },
    {
      "cell_type": "markdown",
      "metadata": {
        "id": "OXtYEUKTEzol"
      },
      "source": [
        "So the output is the array `[4, 3, 5, 5]` which shows that Ann is 4 away from our customer; Clara is 3 away and so on.\n",
        "\n",
        "Now I am going to sort these using `argsort`:"
      ]
    },
    {
      "cell_type": "code",
      "execution_count": 58,
      "metadata": {
        "id": "dDwUuh3gEzol",
        "colab": {
          "base_uri": "https://localhost:8080/"
        },
        "outputId": "3939159b-2e5f-42aa-fdcf-e6b1e46c36e0"
      },
      "outputs": [
        {
          "output_type": "execute_result",
          "data": {
            "text/plain": [
              "array([1, 0, 2, 3])"
            ]
          },
          "metadata": {},
          "execution_count": 58
        }
      ],
      "source": [
        "sorted = np.argsort(distances)\n",
        "sorted"
      ]
    },
    {
      "cell_type": "markdown",
      "metadata": {
        "id": "hDMgmlPjEzol"
      },
      "source": [
        "`argsort` returns an array of sorted indices. So the element at position 1 is the smallest followed by the element at position 0 and so on.\n",
        "\n",
        "Next, I am going to get the first element of that array (in this case 1) and find the name of the driver at that position in the `drivers` array"
      ]
    },
    {
      "cell_type": "code",
      "execution_count": 59,
      "metadata": {
        "id": "gf87Qxt3Ezom",
        "colab": {
          "base_uri": "https://localhost:8080/",
          "height": 0
        },
        "outputId": "985312af-62af-44ce-a0c0-9af08a51dbe9"
      },
      "outputs": [
        {
          "output_type": "execute_result",
          "data": {
            "text/plain": [
              "'Clara'"
            ],
            "application/vnd.google.colaboratory.intrinsic+json": {
              "type": "string"
            }
          },
          "metadata": {},
          "execution_count": 59
        }
      ],
      "source": [
        "drivers[sorted[0]]"
      ]
    },
    {
      "cell_type": "markdown",
      "metadata": {
        "id": "tNtIvsYzEzom"
      },
      "source": [
        "![](https://raw.githubusercontent.com/zacharski/datamining-guide/master/labs/pics/torchdivide.png)\n",
        "\n",
        "\n",
        "# <font color='#EE4C2C'>You Try ...</font> \n",
        "Ok, time to get coding\n",
        "\n",
        "## <font color='#EE4C2C'>2. a function</font> \n",
        "\n",
        "Can you put all the above in a function. that takes 3 arguments, the location array, the array containing the names of the drivers, and the array containing the location of the customer. It should return the name of the closest driver.\n"
      ]
    },
    {
      "cell_type": "code",
      "execution_count": 60,
      "metadata": {
        "id": "P8-RIo0XEzom",
        "colab": {
          "base_uri": "https://localhost:8080/"
        },
        "outputId": "ba11c6fb-dd60-40da-aed6-a070418c928a"
      },
      "outputs": [
        {
          "output_type": "stream",
          "name": "stdout",
          "text": [
            "Clara\n"
          ]
        }
      ],
      "source": [
        "def findDriver(distanceArr, driversArr, customerArr):\n",
        "   result = drivers[sorted[0]]\n",
        "   ### put your code here\n",
        "   return result\n",
        "print(findDriver(locations, drivers, cust)) # this should return Clara"
      ]
    },
    {
      "cell_type": "markdown",
      "metadata": {
        "id": "cVYaKLu1Ezom"
      },
      "source": [
        "### CONGRATULATIONS\n",
        "\n",
        "Even though this is just an intro to NumPy, I am going to throw some math at you. So far we have been looking at a two dimensional example, x and y (or North-South and East-West) and our distance formula for the distance, Dist between Ann, A and Customer C is\n",
        "\n",
        "$$ DIST_{AC} = |A_x - C_x | + |A_y - C_y | $$\n",
        "\n",
        "Now I am going to warp this a bit. In this example, each driver is represented by an array (as is the customer) So, Ann is represented by `[1,2]` and the customer by `[3,4]`. So Ann's 0th element is 1 and the customer's 0th element is 3. And, sorry, computer science people start counting at 0 but math people (and all other normal people) start at 1 so we  can rewrite the above formula as:\n",
        "\n",
        "$$ DIST_{AC} = |A_0 - C_0 | + |A_1 - C_1 | $$\n",
        "\n",
        "That's the distance formula for Ann and the Customer. We can make the formula by saying the distance between any two people, let's call them *x* and *y* is\n",
        "\n",
        "\n",
        "$$ DIST_{xy} = |x_0 - y_0 | + |x_1 - y_1 | $$\n",
        "\n",
        "That is the formula for  2 dimensional Manhattan Distance. We can imagine a three dimensional case.  \n",
        "\n",
        "$$ DIST_{xy} = |x_0 - y_0 | + |x_1 - y_1 | + |x_2 - y_2 | $$\n",
        "\n",
        "and we can generalize the formula to the n-dimensional case.\n",
        " \n",
        "$$ DIST_{xy}=\\sum_{i=0}^n |x_i - y_i| $$\n",
        "\n",
        "Just in time for a five dimensional example:\n",
        "\n",
        "![](https://raw.githubusercontent.com/zacharski/datamining-guide/master/labs/pics/PyDivideTwo.png)\n",
        "\n",
        "\n",
        "\n",
        "## <font color='#EE4C2C'>3. The Amazing 5D Music example</font> \n",
        "\n",
        "![](https://raw.githubusercontent.com/zacharski/datamining-guide/master/labs/pics/artists.png)\n",
        "\n",
        "Guests went into a listening booth and rated the following tunes:\n",
        "\n",
        "* [Janelle Monae Tightrope](https://www.youtube.com/watch?v=pwnefUaKCbc)\n",
        "* [Major Lazer - Cold Water](https://www.youtube.com/watch?v=nBtDsQ4fhXY)\n",
        "* [Tim McGraw - Humble & Kind](https://www.youtube.com/watch?v=awzNHuGqoMc)\n",
        "* [Maren Morris - My Church](https://www.youtube.com/watch?v=ouWQ25O-Mcg)\n",
        "* [Hailee Steinfeld - Starving](https://www.youtube.com/watch?v=xwjwCFZpdns)\n",
        "\n",
        "\n",
        "Here are the results:\n",
        "\n",
        "| Guest  | Janelle Monae  | Major Lazer  | Tim McGraw  |  Maren Morris | Hailee Steinfeld| \n",
        "|---|---|---|---|---|---|\n",
        "|  Ann | 4  |  5 | 2  |  1 | 3 |\n",
        "| Ben  |  3 |  1 |  5 | 4  | 2|\n",
        "| Jordyn  | 5  |  5 | 2  | 2  | 3|\n",
        "|  Sam | 4 | 1 | 4 | 4 | 1|\n",
        "| Hyunseo | 1 | 1 | 5 | 4 | 1 |\n",
        "| Ahmed | 4 | 5 | 3 |  3 | 1 |\n",
        "\n",
        "So Ann, for example, really liked Major Lazer and Janelle Monae but didn't care much for Maren Morris.\n",
        "\n",
        "Let's set up a few numpy arrays.\n"
      ]
    },
    {
      "cell_type": "code",
      "execution_count": 61,
      "metadata": {
        "id": "PQJ116HWEzom"
      },
      "outputs": [],
      "source": [
        "customers = np.array([[4, 5, 2, 1, 3],\n",
        "                      [3, 1, 5, 4, 2],\n",
        "                      [5, 5, 2, 2, 3],\n",
        "                      [4, 1, 4, 4, 1], \n",
        "                      [1, 1, 5, 4, 1],\n",
        "                      [4, 5, 3, 3, 1]])\n",
        "\n",
        "customerNames = np.array([\"Ann\", \"Ben\", 'Jordyn', \"Sam\", \"Hyunseo\", \"Ahmed\"])\n",
        "\n"
      ]
    },
    {
      "cell_type": "markdown",
      "metadata": {
        "id": "w1TukNeeEzom"
      },
      "source": [
        "Now let's set up a few new customers:"
      ]
    },
    {
      "cell_type": "code",
      "execution_count": 62,
      "metadata": {
        "id": "8To125u7Ezom"
      },
      "outputs": [],
      "source": [
        "mikaela = np.array([3, 2, 4, 5, 4])\n",
        "brandon = np.array([4, 5, 1, 2, 3])"
      ]
    },
    {
      "cell_type": "markdown",
      "metadata": {
        "id": "0g44IoKOEzom"
      },
      "source": [
        "Now we would like to determine  which of our current customers is closest to Mikaela and which to Brandon.\n",
        "\n",
        "\n",
        "### Work to be done ...\n",
        "Can you write a function findClosest that takes 3 arguments: customers, customerNames, and an array representing one customer's ratings and returns the name of the closest customer?\n",
        "\n",
        "Let's break this down a bit.\n",
        "\n",
        "1. Which line in the NumPy Uber section above will create a new array which is the result of subtracting the Mikaela array from each row of the customers array resulting in\n",
        "\n",
        "```\n",
        "array([[ 1,  3, -2, -4, -1],\n",
        "       [ 0, -1,  1, -1, -2],\n",
        "       [ 2,  3, -2, -3, -1],\n",
        "       [ 1, -1,  0, -1, -3],\n",
        "       [-2, -1,  1, -1, -3],\n",
        "       [ 1,  3, -1, -2, -3]])\n",
        "       ```\n"
      ]
    },
    {
      "cell_type": "code",
      "execution_count": 63,
      "metadata": {
        "id": "FJeaxo5wEzom",
        "colab": {
          "base_uri": "https://localhost:8080/"
        },
        "outputId": "9cc8ceeb-f7da-4d74-c96d-275ceca50705"
      },
      "outputs": [
        {
          "output_type": "execute_result",
          "data": {
            "text/plain": [
              "array([[-1, -3,  2,  4,  1],\n",
              "       [ 0,  1, -1,  1,  2],\n",
              "       [-2, -3,  2,  3,  1],\n",
              "       [-1,  1,  0,  1,  3],\n",
              "       [ 2,  1, -1,  1,  3],\n",
              "       [-1, -3,  1,  2,  3]])"
            ]
          },
          "metadata": {},
          "execution_count": 63
        }
      ],
      "source": [
        "numpy.subtract(mikaela,customers)\n",
        "# TODO\n"
      ]
    },
    {
      "cell_type": "markdown",
      "metadata": {
        "id": "YjkM1gUFEzom"
      },
      "source": [
        "2. Which line above will take the array you created and generate a single integer distance for each row representing how far away that row is from Mikaela?  The results will look like:\n",
        "\n",
        "```\n",
        "    array([11,  5, 11,  6,  8, 10])\n",
        "```"
      ]
    },
    {
      "cell_type": "code",
      "execution_count": 64,
      "metadata": {
        "id": "5TsRe16eEzom",
        "colab": {
          "base_uri": "https://localhost:8080/"
        },
        "outputId": "957a6bda-1ff8-46d2-b5a4-97a0221c20c7"
      },
      "outputs": [
        {
          "output_type": "execute_result",
          "data": {
            "text/plain": [
              "array([11,  5, 11,  6,  8, 10])"
            ]
          },
          "metadata": {},
          "execution_count": 64
        }
      ],
      "source": [
        "xydiff = mikaela - customers\n",
        "xydiff\n",
        "distances =np.abs(xydiff).sum(axis = 1)\n",
        "distances\n",
        "# TO DO \n"
      ]
    },
    {
      "cell_type": "markdown",
      "metadata": {
        "id": "tKabiJtMEzom"
      },
      "source": [
        "Finally, we want a sorted array of indices, the zeroth element of that array will be the closest row to Mikaela, the next element will be the next closest and so on. The result should be\n",
        "\n",
        "```\n",
        "array([1, 3, 4, 5, 0, 2])\n",
        "```\n"
      ]
    },
    {
      "cell_type": "code",
      "execution_count": 65,
      "metadata": {
        "id": "8wrA4f3aEzom",
        "colab": {
          "base_uri": "https://localhost:8080/"
        },
        "outputId": "66bd19b1-3d91-4bee-d83d-502220be7034"
      },
      "outputs": [
        {
          "output_type": "execute_result",
          "data": {
            "text/plain": [
              "array([1, 3, 4, 5, 0, 2])"
            ]
          },
          "metadata": {},
          "execution_count": 65
        }
      ],
      "source": [
        "sorted = np.argsort(distances)\n",
        "sorted\n",
        "# TO DO\n"
      ]
    },
    {
      "cell_type": "markdown",
      "metadata": {
        "id": "HNTQ0Q45Ezom"
      },
      "source": [
        "Finally we need the name of the person that is the closest. "
      ]
    },
    {
      "cell_type": "code",
      "execution_count": 66,
      "metadata": {
        "id": "MsHOrvoDEzom",
        "colab": {
          "base_uri": "https://localhost:8080/",
          "height": 35
        },
        "outputId": "aa0201e3-f5f0-4e68-e990-75f8829ec103"
      },
      "outputs": [
        {
          "output_type": "execute_result",
          "data": {
            "text/plain": [
              "'Ben'"
            ],
            "application/vnd.google.colaboratory.intrinsic+json": {
              "type": "string"
            }
          },
          "metadata": {},
          "execution_count": 66
        }
      ],
      "source": [
        "customerNames[sorted[0]]\n",
        "# TO DO"
      ]
    },
    {
      "cell_type": "markdown",
      "metadata": {
        "id": "xGgll_0qEzom"
      },
      "source": [
        "Okay, time to put it all together. Can you combine all the code you wrote above to finish the following function? So x is the new person and we want to find the closest customer to x."
      ]
    },
    {
      "cell_type": "code",
      "execution_count": 67,
      "metadata": {
        "id": "rk6bFcJHEzom",
        "colab": {
          "base_uri": "https://localhost:8080/"
        },
        "outputId": "aef108b9-9fc5-4613-80a6-b5c93efb368c"
      },
      "outputs": [
        {
          "output_type": "stream",
          "name": "stdout",
          "text": [
            "Ben\n",
            "Ann\n"
          ]
        }
      ],
      "source": [
        "def findClosest(customers, customerNames, x):\n",
        "  numpy.subtract(x, customers)\n",
        "  xydiff = x - customers\n",
        "  distances = np.abs(xydiff).sum(axis = 1)\n",
        "  sorted = np.argsort(distances)\n",
        "  result = customerNames[sorted[0]]\n",
        "  return result\n",
        "\n",
        "\n",
        "\n",
        "print(findClosest(customers, customerNames, mikaela)) # Should print Ben\n",
        "print(findClosest(customers, customerNames, brandon)) # Should print Ann"
      ]
    },
    {
      "cell_type": "markdown",
      "metadata": {
        "id": "feWzi-fVEzon"
      },
      "source": [
        "![](https://raw.githubusercontent.com/zacharski/datamining-guide/master/labs/pics/PyDivideTwo.png)\n",
        "## <font color='#EE4C2C'>4. Numpy drones</font> \n",
        "\n",
        "![](https://raw.githubusercontent.com/zacharski/datamining-guide/master/labs/pics/drone2.png)\n",
        "\n",
        "We are going to start with the same array we did way up above:\n",
        "\n",
        " \n",
        " | Drone |xPos | yPos |\n",
        " | :---: | :---: | :---: |\n",
        " | wing_1a | 4 | 5 |\n",
        " | wing_2a | 6 | 6 |\n",
        " | wing_3a | 3 | 1 |\n",
        " | wing_4a | 9 | 5 |\n",
        " \n",
        " But this time, instead of Uber drivers, think of these as positions of [Alphabet's Wing delivery drones](https://wing.com/). \n",
        " Now we would like to find the closest drone to a customer who is at 7, 1.\n",
        " \n",
        "With the previous example we used Manhattan Distance.  With drones, we can compute the distance as the crow flies -- or Euclidean Distance.  We probably learned how to do this way back in 7th grade when we learned the Pythagorean Theorem which states:\n",
        "\n",
        "$$c^2 = a^2 + b^2$$\n",
        "\n",
        "Where *c* is the hypotenuse and *a* and *b* are the two other sides. So, if we want to find *c*:\n",
        "\n",
        "$$c = \\sqrt{a^2 + b^2}$$\n",
        "\n",
        "\n",
        "If we want to find the distance between the drone and a customer, *x* and *y* in the formula becomes\n",
        "\n",
        "$$Dist_{xy} = \\sqrt{(x_1-y_1)^2 + (x_2-y_2)^2}$$\n",
        "\n",
        "and for `wing_1a` who is at `[4,5]` and our customer who is at `[7,1]` then the formula becomes:\n",
        "\n",
        "$$Dist_{xy} = \\sqrt{(x_1-y_1)^2 + (x_2-y_2)^2} = \\sqrt{(4-7)^2 + (5-1)^2} =\\sqrt{-3^2 + 4^2}  = \\sqrt{9 + 16} = \\sqrt{25} = 5$$\n",
        "\n",
        "Sweet!  And to generalize this distance formula:\n",
        "\n",
        "$$Dist_{xy} = \\sqrt{(x_1-y_1)^2 + (x_2-y_2)^2}$$\n",
        "\n",
        "to n-dimensions:\n",
        "\n",
        "$$Dist_{xy} = \\sum_{i=1}^n{\\sqrt{(x_i-y_i)^2}}$$\n",
        "\n",
        "\n",
        "\n",
        "\n",
        "\n",
        "Can you write a function euclidean that takes 3 arguments: droneLocation, droneNames, and an array representing one customer's position and returns the name of the closest drone?\n",
        "\n",
        "First, a helpful hint:\n"
      ]
    },
    {
      "cell_type": "code",
      "execution_count": 68,
      "metadata": {
        "id": "uVVU0kiLEzon",
        "colab": {
          "base_uri": "https://localhost:8080/"
        },
        "outputId": "cc8c7ba7-6c4c-4581-904a-1ea49eaa2b42"
      },
      "outputs": [
        {
          "output_type": "execute_result",
          "data": {
            "text/plain": [
              "array([ 1,  4,  9, 16])"
            ]
          },
          "metadata": {},
          "execution_count": 68
        }
      ],
      "source": [
        "arr = np.array([-1, 2, -3, 4])\n",
        "arr2 = np.square(arr)\n",
        "arr2"
      ]
    },
    {
      "cell_type": "code",
      "execution_count": 79,
      "metadata": {
        "id": "-jL8MiMeEzon",
        "colab": {
          "base_uri": "https://localhost:8080/",
          "height": 53
        },
        "outputId": "a0d77cd8-96c4-46ce-97bb-c3aacf37a4e7"
      },
      "outputs": [
        {
          "output_type": "stream",
          "name": "stdout",
          "text": [
            "[2.8284271247461903, 3.0, 3.605551275463989, 3.605551275463989]\n"
          ]
        },
        {
          "output_type": "execute_result",
          "data": {
            "text/plain": [
              "'wing_1a'"
            ],
            "application/vnd.google.colaboratory.intrinsic+json": {
              "type": "string"
            }
          },
          "metadata": {},
          "execution_count": 79
        }
      ],
      "source": [
        "locations = np.array([[4, 5], [6, 6], [3, 1], [9,5]])\n",
        "drones = np.array([\"wing_1a\", \"wing_2a\", \"wing_3a\", \"wing_4a\"])\n",
        "cust = np.array([6, 3])\n",
        "\n",
        "def euclidean(droneLocation, droneNames, x):\n",
        "  distances = []\n",
        "  for i in range(len(droneLocation)):\n",
        "    distances.append(np.sqrt(np.sum(np.square(x - droneLocation[i]))))\n",
        "  print(distances)\n",
        "  sorted = np.argsort(distances)\n",
        "  result = droneNames[sorted[0]]\n",
        "  return result\n",
        "\n",
        "euclidean(locations, drones, cust) "
      ]
    },
    {
      "cell_type": "code",
      "execution_count": 70,
      "metadata": {
        "id": "PUgvcOweEzon"
      },
      "outputs": [],
      "source": [
        "#TBD"
      ]
    }
  ],
  "metadata": {
    "anaconda-cloud": {},
    "colab": {
      "provenance": [],
      "collapsed_sections": [
        "Iz4-PVEFEzoh",
        "umsiIMGdEzoh",
        "q59LN5V_Ezoi",
        "6m6aHGieEzoj",
        "9_6DDzmNEzok",
        "VkhfvKxaEzok",
        "WpT_C-egEzok",
        "umNpXgcbEzok",
        "RKuo98Z-Ezok",
        "lWU0zriTEzol",
        "1oKpR6kBEzol",
        "CyM9uQLPEzol"
      ],
      "include_colab_link": true
    },
    "kernelspec": {
      "display_name": "Python 3 (ipykernel)",
      "language": "python",
      "name": "python3"
    },
    "language_info": {
      "codemirror_mode": {
        "name": "ipython",
        "version": 3
      },
      "file_extension": ".py",
      "mimetype": "text/x-python",
      "name": "python",
      "nbconvert_exporter": "python",
      "pygments_lexer": "ipython3",
      "version": "3.9.12"
    }
  },
  "nbformat": 4,
  "nbformat_minor": 0
}
