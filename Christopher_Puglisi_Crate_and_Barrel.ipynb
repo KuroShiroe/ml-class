{
  "nbformat": 4,
  "nbformat_minor": 0,
  "metadata": {
    "colab": {
      "provenance": [],
      "authorship_tag": "ABX9TyNX87cwe5vGgnSwRTQ8rPMO",
      "include_colab_link": true
    },
    "kernelspec": {
      "name": "python3",
      "display_name": "Python 3"
    },
    "language_info": {
      "name": "python"
    }
  },
  "cells": [
    {
      "cell_type": "markdown",
      "metadata": {
        "id": "view-in-github",
        "colab_type": "text"
      },
      "source": [
        "<a href=\"https://colab.research.google.com/github/KuroShiroe/ml-class/blob/main/Christopher_Puglisi_Crate_and_Barrel.ipynb\" target=\"_parent\"><img src=\"https://colab.research.google.com/assets/colab-badge.svg\" alt=\"Open In Colab\"/></a>"
      ]
    },
    {
      "cell_type": "code",
      "execution_count": 106,
      "metadata": {
        "id": "_29OND8lrHSo"
      },
      "outputs": [],
      "source": [
        "import pandas as pd\n",
        "from sklearn.preprocessing import LabelEncoder, StandardScaler\n",
        "from xgboost import XGBClassifier\n",
        "import xgboost as xgb\n",
        "import numpy as np\n",
        "from sklearn.metrics import log_loss, accuracy_score\n",
        "\n",
        "test = pd.read_csv('test.csv')\n",
        "train = pd.read_csv('train.csv')"
      ]
    },
    {
      "cell_type": "code",
      "source": [
        "train.drop(['id'], axis=1, inplace=True)\n",
        "test.drop(['id'], axis=1, inplace=True)\n",
        "feature_train = train.drop(['target'], axis=1)\n",
        "target_train = train['target']\n",
        "feature_test = test"
      ],
      "metadata": {
        "id": "pgdwNvs7oWFs"
      },
      "execution_count": 107,
      "outputs": []
    },
    {
      "cell_type": "code",
      "source": [
        "xgb = XGBClassifier(use_label_encoder=False, learning_rate= 1)\n",
        "xgb.fit(feature_train, target_train)"
      ],
      "metadata": {
        "colab": {
          "base_uri": "https://localhost:8080/"
        },
        "id": "qIgbMMdXnoeF",
        "outputId": "803efbe5-1331-440f-b853-4574fe88ef4f"
      },
      "execution_count": 108,
      "outputs": [
        {
          "output_type": "execute_result",
          "data": {
            "text/plain": [
              "XGBClassifier(learning_rate=1, objective='multi:softprob',\n",
              "              use_label_encoder=False)"
            ]
          },
          "metadata": {},
          "execution_count": 108
        }
      ]
    },
    {
      "cell_type": "code",
      "source": [
        "pred = xgb.predict_proba(feature_train)\n",
        "print(\"Validation data logloss: {}\".format(log_loss(target_train, pred)))"
      ],
      "metadata": {
        "colab": {
          "base_uri": "https://localhost:8080/"
        },
        "id": "uSyOPC75pFeN",
        "outputId": "986bab05-6d26-4e30-85b0-e72585bbd987"
      },
      "execution_count": 109,
      "outputs": [
        {
          "output_type": "stream",
          "name": "stdout",
          "text": [
            "Validation data logloss: 0.3878394694965692\n"
          ]
        }
      ]
    },
    {
      "cell_type": "code",
      "source": [
        "pred = xgb.predict(feature_train)\n",
        "accu = accuracy_score(target_train, pred)\n",
        "print(\"Accuracy: %.2f%%\" % (accu * 100.0))"
      ],
      "metadata": {
        "colab": {
          "base_uri": "https://localhost:8080/"
        },
        "id": "gQkGISR-pPQH",
        "outputId": "02da9dd2-e83e-4b46-8a59-2df7089a8744"
      },
      "execution_count": 110,
      "outputs": [
        {
          "output_type": "stream",
          "name": "stdout",
          "text": [
            "Accuracy: 85.01%\n"
          ]
        }
      ]
    }
  ]
}